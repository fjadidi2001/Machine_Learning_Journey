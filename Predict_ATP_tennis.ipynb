{
  "nbformat": 4,
  "nbformat_minor": 0,
  "metadata": {
    "colab": {
      "provenance": [],
      "authorship_tag": "ABX9TyOJLudisPuReKUk2KZxEl+y",
      "include_colab_link": true
    },
    "kernelspec": {
      "name": "python3",
      "display_name": "Python 3"
    },
    "language_info": {
      "name": "python"
    }
  },
  "cells": [
    {
      "cell_type": "markdown",
      "metadata": {
        "id": "view-in-github",
        "colab_type": "text"
      },
      "source": [
        "<a href=\"https://colab.research.google.com/github/fjadidi2001/Machine_Learning_Journey/blob/main/Predict_ATP_tennis.ipynb\" target=\"_parent\"><img src=\"https://colab.research.google.com/assets/colab-badge.svg\" alt=\"Open In Colab\"/></a>"
      ]
    },
    {
      "cell_type": "code",
      "source": [
        "import pandas as pd\n",
        "import numpy as np\n",
        "import datetime\n",
        "import matplotlib.pyplot as plt\n",
        "import random\n",
        "import seaborn as sns\n",
        "from sklearn.preprocessing import LabelEncoder\n",
        "from sklearn.impute import SimpleImputer\n",
        "from sklearn.preprocessing import LabelBinarizer\n",
        "from sklearn.model_selection import train_test_split\n",
        "from sklearn import utils\n",
        "from sklearn.ensemble import RandomForestClassifier\n",
        "from sklearn.metrics import confusion_matrix, classification_report, accuracy_score\n",
        "from xgboost import XGBClassifier\n",
        "import shap\n",
        "import kagglehub\n",
        "import os\n",
        "\n"
      ],
      "metadata": {
        "id": "3tl2OPAmdl7S"
      },
      "execution_count": 1,
      "outputs": []
    },
    {
      "cell_type": "markdown",
      "source": [
        "\n",
        "1. **`import pandas as pd`**:\n",
        "   - Imports the Pandas library, which is used for data manipulation and analysis. It provides data structures like DataFrames that make it easy to handle structured data.\n",
        "\n",
        "2. **`import numpy as np`**:\n",
        "   - Imports the NumPy library, which is fundamental for numerical computing in Python. It provides support for arrays, matrices, and many mathematical functions.\n",
        "\n",
        "3. **`import datetime`**:\n",
        "   - Imports the built-in `datetime` module, which supplies classes for manipulating dates and times.\n",
        "\n",
        "4. **`import matplotlib.pyplot as plt`**:\n",
        "   - Imports the `pyplot` module from Matplotlib, a plotting library. It is used for creating static, interactive, and animated visualizations in Python.\n",
        "\n",
        "5. **`import random`**:\n",
        "   - Imports the built-in `random` module, which implements pseudo-random number generators for various distributions.\n",
        "\n",
        "6. **`import seaborn as sns`**:\n",
        "   - Imports the Seaborn library, which is built on top of Matplotlib and provides a high-level interface for drawing attractive statistical graphics.\n",
        "\n",
        "7. **`from sklearn.preprocessing import LabelEncoder`**:\n",
        "   - Imports the `LabelEncoder` class from Scikit-learn, which is used to convert categorical labels into numerical format, making them suitable for machine learning algorithms.\n",
        "\n",
        "8. **`from sklearn.impute import SimpleImputer`**:\n",
        "   - Imports the `SimpleImputer` class from Scikit-learn, which is used for handling missing data by filling in missing values with a specified strategy (like mean, median, or mode).\n",
        "\n",
        "9. **`from sklearn.preprocessing import LabelBinarizer`**:\n",
        "   - Imports the `LabelBinarizer` class from Scikit-learn, which converts categorical labels into a binary format (one-hot encoding), useful for machine learning tasks.\n",
        "\n",
        "10. **`from sklearn.model_selection import train_test_split`**:\n",
        "    - Imports the `train_test_split` function from Scikit-learn, which is used to split datasets into training and testing sets, helping to evaluate the performance of machine learning models.\n",
        "\n",
        "\n",
        "11. **`from sklearn import utils`**: This imports utility functions from the `sklearn` (scikit-learn) library, which is widely used for machine learning in Python. The `utils` module provides functions for various tasks, such as data preprocessing or reshaping.\n",
        "\n",
        "12. **`from sklearn.ensemble import RandomForestClassifier`**: This imports the `RandomForestClassifier` class from the ensemble module of scikit-learn. The Random Forest algorithm is an ensemble learning method used for classification tasks that builds multiple decision trees and merges them for a more accurate prediction.\n",
        "\n",
        "13. **`from sklearn.metrics import confusion_matrix, classification_report, accuracy_score`**: This line imports several metrics used to evaluate the performance of classification models:\n",
        "   - **`confusion_matrix`**: Generates a matrix to visualize the performance of a classifier, showing true vs. predicted labels.\n",
        "   - **`classification_report`**: Provides a detailed report including precision, recall, f1-score, and support for each class in the classification task.\n",
        "   - **`accuracy_score`**: Computes the accuracy of the model, which is the ratio of correctly predicted instances to the total instances.\n",
        "\n",
        "14. **`from xgboost import XGBClassifier`**: This imports the `XGBClassifier` from the XGBoost library, which is an optimized implementation of gradient boosting. XGBoost is powerful for classification tasks and often leads to better performance compared to other algorithms.\n",
        "\n",
        "15. **`import shap`**: This imports the SHAP (SHapley Additive exPlanations) library, which is used to explain the output of machine learning models. It provides insights into the contribution of each feature to the model's predictions.\n",
        "\n",
        "16. **`import kagglehub`**: This imports the `kagglehub` library, which may be used to access datasets or functionalities provided by Kaggle, a popular platform for data science competitions.\n",
        "\n",
        "17. **`import os`**: This imports the `os` module, which provides a way to interact with the operating system. It can be used for tasks such as file management, environment variable access, and directory operations.\n",
        "\n"
      ],
      "metadata": {
        "id": "hGt0kzALbnkU"
      }
    },
    {
      "cell_type": "code",
      "source": [
        "\n",
        "# Download latest version\n",
        "path = kagglehub.dataset_download(\"anupangadi/tennis-players-ranks-prediction-using-atp-elo\")\n",
        "\n",
        "print(\"Path to dataset files:\", path)\n",
        "\n",
        "# Find the CSV file within the downloaded directory\n",
        "for filename in os.listdir(path):\n",
        "    if filename.endswith(\".csv\"):\n",
        "        csv_file = os.path.join(path, filename)\n",
        "        break  # Stop searching after finding the first CSV file\n",
        "\n",
        "# Load the CSV file into a pandas DataFrame\n",
        "df = pd.read_csv(csv_file)\n",
        "\n",
        "\n"
      ],
      "metadata": {
        "colab": {
          "base_uri": "https://localhost:8080/"
        },
        "id": "CKCZwtJJdogN",
        "outputId": "2cee931a-99e9-40d2-f742-ed5fb62e8bdb"
      },
      "execution_count": 2,
      "outputs": [
        {
          "output_type": "stream",
          "name": "stdout",
          "text": [
            "Downloading from https://www.kaggle.com/api/v1/datasets/download/anupangadi/tennis-players-ranks-prediction-using-atp-elo?dataset_version_number=1...\n"
          ]
        },
        {
          "output_type": "stream",
          "name": "stderr",
          "text": [
            "100%|██████████| 35.1k/35.1k [00:00<00:00, 28.8MB/s]"
          ]
        },
        {
          "output_type": "stream",
          "name": "stdout",
          "text": [
            "Extracting files...\n",
            "Path to dataset files: /root/.cache/kagglehub/datasets/anupangadi/tennis-players-ranks-prediction-using-atp-elo/versions/1\n"
          ]
        },
        {
          "output_type": "stream",
          "name": "stderr",
          "text": [
            "\n"
          ]
        }
      ]
    },
    {
      "cell_type": "code",
      "source": [
        "# Display some info about the loaded dataset\n",
        "print(df.head())"
      ],
      "metadata": {
        "colab": {
          "base_uri": "https://localhost:8080/"
        },
        "id": "hLoGRKupdPZx",
        "outputId": "ff2faa69-c23a-4050-e555-bef7d3873fb6"
      },
      "execution_count": 3,
      "outputs": [
        {
          "output_type": "stream",
          "name": "stdout",
          "text": [
            "             Player   Age     Elo HardRaw ClayRaw GrassRaw  \\\n",
            "0    Novak Djokovic  34.5  2185.2    2068  2016.3   1942.4   \n",
            "1   Daniil Medvedev  25.9  2166.2  2095.3  1714.1   1723.4   \n",
            "2  Alexander Zverev  24.7  2141.3  2056.7  1999.1   1671.4   \n",
            "3     Roger Federer  39.9  2043.0  1936.7  1749.6   1813.4   \n",
            "4    Carlos Alcaraz  18.5  2029.5  1906.3  1834.4   1441.4   \n",
            "\n",
            "   hard court elo rating  clay-court elo rating  grass-court elo rating  \\\n",
            "0                 2126.6                 2100.8                  2063.8   \n",
            "1                 2130.7                 1940.1                  1944.8   \n",
            "2                 2099.0                 2070.2                  1906.4   \n",
            "3                 1989.8                 1896.3                  1928.2   \n",
            "4                 1967.9                 1932.0                  1735.5   \n",
            "\n",
            "              Peak Match  Peak Age  Peak Elo Gender  Rank  \n",
            "0           2016 Miami F      28.8    2470.0   Male     1  \n",
            "1        2022 Atp Cup RR      25.9    2175.1   Male     2  \n",
            "2        2022 Atp Cup RR      24.7    2157.9   Male     3  \n",
            "3           2007 Dubai F      25.6    2382.0   Male     4  \n",
            "4  2021 NextGen Finals F      18.5    2029.5   Male     5  \n"
          ]
        }
      ]
    },
    {
      "cell_type": "code",
      "source": [
        "print(df.info())"
      ],
      "metadata": {
        "colab": {
          "base_uri": "https://localhost:8080/"
        },
        "id": "VZqrOB5ucgnU",
        "outputId": "874096c5-9cad-4231-8ac4-9d438ea40a06"
      },
      "execution_count": null,
      "outputs": [
        {
          "output_type": "stream",
          "name": "stdout",
          "text": [
            "<class 'pandas.core.frame.DataFrame'>\n",
            "RangeIndex: 783 entries, 0 to 782\n",
            "Data columns (total 14 columns):\n",
            " #   Column                  Non-Null Count  Dtype  \n",
            "---  ------                  --------------  -----  \n",
            " 0   Player                  783 non-null    object \n",
            " 1   Age                     783 non-null    float64\n",
            " 2   Elo                     783 non-null    float64\n",
            " 3   HardRaw                 783 non-null    object \n",
            " 4   ClayRaw                 783 non-null    object \n",
            " 5   GrassRaw                783 non-null    object \n",
            " 6   hard court elo rating   783 non-null    float64\n",
            " 7   clay-court elo rating   783 non-null    float64\n",
            " 8   grass-court elo rating  783 non-null    float64\n",
            " 9   Peak Match              783 non-null    object \n",
            " 10  Peak Age                783 non-null    float64\n",
            " 11  Peak Elo                783 non-null    float64\n",
            " 12  Gender                  783 non-null    object \n",
            " 13  Rank                    783 non-null    int64  \n",
            "dtypes: float64(7), int64(1), object(6)\n",
            "memory usage: 85.8+ KB\n",
            "None\n"
          ]
        }
      ]
    },
    {
      "cell_type": "code",
      "source": [
        "# Checking for missing values\n",
        "print(\"\\nMissing values per column:\")\n",
        "print(df.isnull().sum())"
      ],
      "metadata": {
        "colab": {
          "base_uri": "https://localhost:8080/"
        },
        "id": "i1jUUDMSaC-e",
        "outputId": "a893db00-0da9-4f03-acae-b193b16b4148"
      },
      "execution_count": 5,
      "outputs": [
        {
          "output_type": "stream",
          "name": "stdout",
          "text": [
            "\n",
            "Missing values per column:\n",
            "Player                    0\n",
            "Age                       0\n",
            "Elo                       0\n",
            "HardRaw                   0\n",
            "ClayRaw                   0\n",
            "GrassRaw                  0\n",
            "hard court elo rating     0\n",
            "clay-court elo rating     0\n",
            "grass-court elo rating    0\n",
            "Peak Match                0\n",
            "Peak Age                  0\n",
            "Peak Elo                  0\n",
            "Gender                    0\n",
            "Rank                      0\n",
            "dtype: int64\n"
          ]
        }
      ]
    },
    {
      "cell_type": "code",
      "source": [
        "# Checking basic statistics\n",
        "print(\"\\nDataset statistics:\")\n",
        "print(df.describe())\n"
      ],
      "metadata": {
        "colab": {
          "base_uri": "https://localhost:8080/"
        },
        "id": "hbBmhOUxaWKG",
        "outputId": "5eadf906-0008-49a9-88c9-f66146db57e3"
      },
      "execution_count": 6,
      "outputs": [
        {
          "output_type": "stream",
          "name": "stdout",
          "text": [
            "\n",
            "Dataset statistics:\n",
            "              Age          Elo  hard court elo rating  clay-court elo rating  \\\n",
            "count  783.000000   783.000000             783.000000             783.000000   \n",
            "mean    26.654917  1563.584291            1515.014943            1509.160153   \n",
            "std      4.722972   194.965341             192.315096             182.468047   \n",
            "min     15.500000  1032.100000            1010.300000             970.300000   \n",
            "25%     23.300000  1418.500000            1379.750000            1370.550000   \n",
            "50%     26.300000  1549.300000            1494.900000            1500.800000   \n",
            "75%     29.800000  1694.900000            1638.550000            1640.350000   \n",
            "max     42.600000  2185.200000            2130.700000            2100.800000   \n",
            "\n",
            "       grass-court elo rating    Peak Age     Peak Elo        Rank  \n",
            "count              783.000000  783.000000   783.000000  783.000000  \n",
            "mean              1489.050830   23.657088  1685.551724  196.275862  \n",
            "std                146.718487    3.510809   204.400183  113.132996  \n",
            "min               1124.100000   15.000000  1169.000000    1.000000  \n",
            "25%               1381.100000   21.000000  1541.050000   98.500000  \n",
            "50%               1466.900000   23.500000  1685.800000  196.000000  \n",
            "75%               1580.350000   26.100000  1814.350000  294.000000  \n",
            "max               2063.800000   35.100000  2470.000000  396.000000  \n"
          ]
        }
      ]
    }
  ]
}