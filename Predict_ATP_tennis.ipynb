{
  "nbformat": 4,
  "nbformat_minor": 0,
  "metadata": {
    "colab": {
      "provenance": [],
      "authorship_tag": "ABX9TyPDgbFx2epadgbBPxvw+/bQ",
      "include_colab_link": true
    },
    "kernelspec": {
      "name": "python3",
      "display_name": "Python 3"
    },
    "language_info": {
      "name": "python"
    }
  },
  "cells": [
    {
      "cell_type": "markdown",
      "metadata": {
        "id": "view-in-github",
        "colab_type": "text"
      },
      "source": [
        "<a href=\"https://colab.research.google.com/github/fjadidi2001/Machine_Learning_Journey/blob/main/Predict_ATP_tennis.ipynb\" target=\"_parent\"><img src=\"https://colab.research.google.com/assets/colab-badge.svg\" alt=\"Open In Colab\"/></a>"
      ]
    },
    {
      "cell_type": "code",
      "source": [
        "import pandas as pd\n",
        "import numpy as np\n",
        "import datetime\n",
        "import matplotlib.pyplot as plt\n",
        "import random\n",
        "import seaborn as sns\n",
        "from sklearn.preprocessing import LabelEncoder\n",
        "from sklearn.impute import SimpleImputer\n",
        "from sklearn.preprocessing import LabelBinarizer\n",
        "from sklearn.model_selection import train_test_split\n",
        "from sklearn import utils\n",
        "from sklearn.ensemble import RandomForestClassifier\n",
        "from sklearn.metrics import confusion_matrix, classification_report, accuracy_score\n",
        "from xgboost import XGBClassifier\n",
        "import shap\n",
        "import kagglehub\n",
        "import os\n",
        "\n",
        "\n",
        "# Download latest version\n",
        "path = kagglehub.dataset_download(\"anupangadi/tennis-players-ranks-prediction-using-atp-elo\")\n",
        "\n",
        "print(\"Path to dataset files:\", path)\n",
        "\n",
        "# Find the CSV file within the downloaded directory\n",
        "for filename in os.listdir(path):\n",
        "    if filename.endswith(\".csv\"):\n",
        "        csv_file = os.path.join(path, filename)\n",
        "        break  # Stop searching after finding the first CSV file\n",
        "\n",
        "# Load the CSV file into a pandas DataFrame\n",
        "df = pd.read_csv(csv_file)\n",
        "\n",
        "# Display some info about the loaded dataset\n",
        "print(df.head())\n"
      ],
      "metadata": {
        "colab": {
          "base_uri": "https://localhost:8080/"
        },
        "id": "d3h3fBfpOlPY",
        "outputId": "e5635bc1-0191-4f89-e043-1a305eef9a86"
      },
      "execution_count": 22,
      "outputs": [
        {
          "output_type": "stream",
          "name": "stdout",
          "text": [
            "Path to dataset files: /root/.cache/kagglehub/datasets/anupangadi/tennis-players-ranks-prediction-using-atp-elo/versions/1\n",
            "             Player   Age     Elo HardRaw ClayRaw GrassRaw  \\\n",
            "0    Novak Djokovic  34.5  2185.2    2068  2016.3   1942.4   \n",
            "1   Daniil Medvedev  25.9  2166.2  2095.3  1714.1   1723.4   \n",
            "2  Alexander Zverev  24.7  2141.3  2056.7  1999.1   1671.4   \n",
            "3     Roger Federer  39.9  2043.0  1936.7  1749.6   1813.4   \n",
            "4    Carlos Alcaraz  18.5  2029.5  1906.3  1834.4   1441.4   \n",
            "\n",
            "   hard court elo rating  clay-court elo rating  grass-court elo rating  \\\n",
            "0                 2126.6                 2100.8                  2063.8   \n",
            "1                 2130.7                 1940.1                  1944.8   \n",
            "2                 2099.0                 2070.2                  1906.4   \n",
            "3                 1989.8                 1896.3                  1928.2   \n",
            "4                 1967.9                 1932.0                  1735.5   \n",
            "\n",
            "              Peak Match  Peak Age  Peak Elo Gender  Rank  \n",
            "0           2016 Miami F      28.8    2470.0   Male     1  \n",
            "1        2022 Atp Cup RR      25.9    2175.1   Male     2  \n",
            "2        2022 Atp Cup RR      24.7    2157.9   Male     3  \n",
            "3           2007 Dubai F      25.6    2382.0   Male     4  \n",
            "4  2021 NextGen Finals F      18.5    2029.5   Male     5  \n",
            "<class 'pandas.core.frame.DataFrame'>\n",
            "RangeIndex: 783 entries, 0 to 782\n",
            "Data columns (total 14 columns):\n",
            " #   Column                  Non-Null Count  Dtype  \n",
            "---  ------                  --------------  -----  \n",
            " 0   Player                  783 non-null    object \n",
            " 1   Age                     783 non-null    float64\n",
            " 2   Elo                     783 non-null    float64\n",
            " 3   HardRaw                 783 non-null    object \n",
            " 4   ClayRaw                 783 non-null    object \n",
            " 5   GrassRaw                783 non-null    object \n",
            " 6   hard court elo rating   783 non-null    float64\n",
            " 7   clay-court elo rating   783 non-null    float64\n",
            " 8   grass-court elo rating  783 non-null    float64\n",
            " 9   Peak Match              783 non-null    object \n",
            " 10  Peak Age                783 non-null    float64\n",
            " 11  Peak Elo                783 non-null    float64\n",
            " 12  Gender                  783 non-null    object \n",
            " 13  Rank                    783 non-null    int64  \n",
            "dtypes: float64(7), int64(1), object(6)\n",
            "memory usage: 85.8+ KB\n",
            "None\n"
          ]
        }
      ]
    },
    {
      "cell_type": "code",
      "source": [
        "print(df.info())"
      ],
      "metadata": {
        "colab": {
          "base_uri": "https://localhost:8080/"
        },
        "id": "VZqrOB5ucgnU",
        "outputId": "fc8c38e6-7957-4ade-b935-eacc4674220a"
      },
      "execution_count": 23,
      "outputs": [
        {
          "output_type": "stream",
          "name": "stdout",
          "text": [
            "<class 'pandas.core.frame.DataFrame'>\n",
            "RangeIndex: 783 entries, 0 to 782\n",
            "Data columns (total 14 columns):\n",
            " #   Column                  Non-Null Count  Dtype  \n",
            "---  ------                  --------------  -----  \n",
            " 0   Player                  783 non-null    object \n",
            " 1   Age                     783 non-null    float64\n",
            " 2   Elo                     783 non-null    float64\n",
            " 3   HardRaw                 783 non-null    object \n",
            " 4   ClayRaw                 783 non-null    object \n",
            " 5   GrassRaw                783 non-null    object \n",
            " 6   hard court elo rating   783 non-null    float64\n",
            " 7   clay-court elo rating   783 non-null    float64\n",
            " 8   grass-court elo rating  783 non-null    float64\n",
            " 9   Peak Match              783 non-null    object \n",
            " 10  Peak Age                783 non-null    float64\n",
            " 11  Peak Elo                783 non-null    float64\n",
            " 12  Gender                  783 non-null    object \n",
            " 13  Rank                    783 non-null    int64  \n",
            "dtypes: float64(7), int64(1), object(6)\n",
            "memory usage: 85.8+ KB\n",
            "None\n"
          ]
        }
      ]
    }
  ]
}