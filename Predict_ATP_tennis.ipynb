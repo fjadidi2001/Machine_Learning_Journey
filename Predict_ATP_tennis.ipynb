{
  "nbformat": 4,
  "nbformat_minor": 0,
  "metadata": {
    "colab": {
      "provenance": [],
      "authorship_tag": "ABX9TyMCQYOcg409HKQg6cRHv5l7",
      "include_colab_link": true
    },
    "kernelspec": {
      "name": "python3",
      "display_name": "Python 3"
    },
    "language_info": {
      "name": "python"
    }
  },
  "cells": [
    {
      "cell_type": "markdown",
      "metadata": {
        "id": "view-in-github",
        "colab_type": "text"
      },
      "source": [
        "<a href=\"https://colab.research.google.com/github/fjadidi2001/Machine_Learning_Journey/blob/main/Predict_ATP_tennis.ipynb\" target=\"_parent\"><img src=\"https://colab.research.google.com/assets/colab-badge.svg\" alt=\"Open In Colab\"/></a>"
      ]
    },
    {
      "cell_type": "markdown",
      "source": [
        "> ATP stands for the Association of Tennis Professionals. It is the governing body for men's professional tennis worldwide. Founded in 1972, the ATP is responsible for organizing the ATP Tour, which includes a series of tournaments such as the ATP Masters 1000, ATP 500, and ATP 250 events, along with the prestigious ATP Finals and the Davis Cup.\n",
        "\n",
        "> The ATP also ranks male players based on their performance in tournaments, creating the ATP Rankings, which reflect players' results over the previous 52 weeks. The ATP plays a significant role in promoting the sport, securing player rights, and managing tournament standards.\n"
      ],
      "metadata": {
        "id": "Ot8jZQb3vHb-"
      }
    },
    {
      "cell_type": "markdown",
      "source": [
        "\n",
        "\n",
        "# Problem Statement:\n",
        "> “Analyzing and Predicting Player Performance in Professional Tennis: An Exploration of Court-Type Specialization and Peak Performance Age”\n",
        "\n",
        "\n"
      ],
      "metadata": {
        "id": "vZP8ph_axS_3"
      }
    },
    {
      "cell_type": "markdown",
      "source": [
        "\n",
        "## Project Objectives\n",
        "1. **Exploratory Analysis of Player Characteristics**  \n",
        "   - Analyze the distribution of player ages, rankings, and Elo ratings across different surfaces (hard court, clay court, grass court).\n",
        "   - Identify trends in age and performance metrics to determine how they vary across court types.\n",
        "\n",
        "2. **Court-Type Specialization Prediction**  \n",
        "   - Build a classification model to predict a player's specialization (e.g., \"hard-court specialist,\" \"clay-court specialist,\" or \"all-rounder\") based on historical performance data.\n",
        "\n",
        "3. **Peak Performance Prediction**  \n",
        "   - Investigate the relationship between age and peak performance, specifically focusing on the \"Peak Age\" and \"Peak Elo\" features.\n",
        "   - Use regression techniques to predict a player’s peak Elo rating and the age at which they will reach peak performance.\n",
        "\n",
        "4. **Gender-Based Performance Analysis**  \n",
        "   - Conduct a comparative analysis of performance metrics between male and female players, examining if and how gender influences court-type specialization and peak performance.\n",
        "\n",
        "5. **Evaluation and Interpretability**  \n",
        "   - Evaluate model performance using metrics such as accuracy, F1-score, mean squared error (MSE), etc., depending on the task (classification or regression).\n",
        "   - Incorporate interpretability techniques (e.g., SHAP values or feature importance) to provide insights into the factors contributing to a player’s peak performance and specialization.\n",
        "\n"
      ],
      "metadata": {
        "id": "KIzurq9Bxsmp"
      }
    },
    {
      "cell_type": "markdown",
      "source": [
        "\n",
        "### Contribution and Impact\n",
        "This project could provide valuable insights into tennis player development and training, helping coaches and analysts better understand the factors that contribute to a player’s success on different court types. It could also provide insights into the ideal age for peak performance, which is valuable for athlete management and career planning."
      ],
      "metadata": {
        "id": "K1X_ThTryB5W"
      }
    },
    {
      "cell_type": "markdown",
      "source": [
        "# Step 1: load the dataset"
      ],
      "metadata": {
        "id": "X8BtYnRSvtGp"
      }
    },
    {
      "cell_type": "code",
      "source": [
        "from google.colab import files\n",
        "uploaded = files.upload()"
      ],
      "metadata": {
        "colab": {
          "base_uri": "https://localhost:8080/",
          "height": 73
        },
        "id": "qPk4WY98Q0y2",
        "outputId": "0f4053b1-34e2-4791-f31f-d489044ef642"
      },
      "execution_count": 2,
      "outputs": [
        {
          "output_type": "display_data",
          "data": {
            "text/plain": [
              "<IPython.core.display.HTML object>"
            ],
            "text/html": [
              "\n",
              "     <input type=\"file\" id=\"files-0b4a324d-661c-4503-8147-59d541c10f4b\" name=\"files[]\" multiple disabled\n",
              "        style=\"border:none\" />\n",
              "     <output id=\"result-0b4a324d-661c-4503-8147-59d541c10f4b\">\n",
              "      Upload widget is only available when the cell has been executed in the\n",
              "      current browser session. Please rerun this cell to enable.\n",
              "      </output>\n",
              "      <script>// Copyright 2017 Google LLC\n",
              "//\n",
              "// Licensed under the Apache License, Version 2.0 (the \"License\");\n",
              "// you may not use this file except in compliance with the License.\n",
              "// You may obtain a copy of the License at\n",
              "//\n",
              "//      http://www.apache.org/licenses/LICENSE-2.0\n",
              "//\n",
              "// Unless required by applicable law or agreed to in writing, software\n",
              "// distributed under the License is distributed on an \"AS IS\" BASIS,\n",
              "// WITHOUT WARRANTIES OR CONDITIONS OF ANY KIND, either express or implied.\n",
              "// See the License for the specific language governing permissions and\n",
              "// limitations under the License.\n",
              "\n",
              "/**\n",
              " * @fileoverview Helpers for google.colab Python module.\n",
              " */\n",
              "(function(scope) {\n",
              "function span(text, styleAttributes = {}) {\n",
              "  const element = document.createElement('span');\n",
              "  element.textContent = text;\n",
              "  for (const key of Object.keys(styleAttributes)) {\n",
              "    element.style[key] = styleAttributes[key];\n",
              "  }\n",
              "  return element;\n",
              "}\n",
              "\n",
              "// Max number of bytes which will be uploaded at a time.\n",
              "const MAX_PAYLOAD_SIZE = 100 * 1024;\n",
              "\n",
              "function _uploadFiles(inputId, outputId) {\n",
              "  const steps = uploadFilesStep(inputId, outputId);\n",
              "  const outputElement = document.getElementById(outputId);\n",
              "  // Cache steps on the outputElement to make it available for the next call\n",
              "  // to uploadFilesContinue from Python.\n",
              "  outputElement.steps = steps;\n",
              "\n",
              "  return _uploadFilesContinue(outputId);\n",
              "}\n",
              "\n",
              "// This is roughly an async generator (not supported in the browser yet),\n",
              "// where there are multiple asynchronous steps and the Python side is going\n",
              "// to poll for completion of each step.\n",
              "// This uses a Promise to block the python side on completion of each step,\n",
              "// then passes the result of the previous step as the input to the next step.\n",
              "function _uploadFilesContinue(outputId) {\n",
              "  const outputElement = document.getElementById(outputId);\n",
              "  const steps = outputElement.steps;\n",
              "\n",
              "  const next = steps.next(outputElement.lastPromiseValue);\n",
              "  return Promise.resolve(next.value.promise).then((value) => {\n",
              "    // Cache the last promise value to make it available to the next\n",
              "    // step of the generator.\n",
              "    outputElement.lastPromiseValue = value;\n",
              "    return next.value.response;\n",
              "  });\n",
              "}\n",
              "\n",
              "/**\n",
              " * Generator function which is called between each async step of the upload\n",
              " * process.\n",
              " * @param {string} inputId Element ID of the input file picker element.\n",
              " * @param {string} outputId Element ID of the output display.\n",
              " * @return {!Iterable<!Object>} Iterable of next steps.\n",
              " */\n",
              "function* uploadFilesStep(inputId, outputId) {\n",
              "  const inputElement = document.getElementById(inputId);\n",
              "  inputElement.disabled = false;\n",
              "\n",
              "  const outputElement = document.getElementById(outputId);\n",
              "  outputElement.innerHTML = '';\n",
              "\n",
              "  const pickedPromise = new Promise((resolve) => {\n",
              "    inputElement.addEventListener('change', (e) => {\n",
              "      resolve(e.target.files);\n",
              "    });\n",
              "  });\n",
              "\n",
              "  const cancel = document.createElement('button');\n",
              "  inputElement.parentElement.appendChild(cancel);\n",
              "  cancel.textContent = 'Cancel upload';\n",
              "  const cancelPromise = new Promise((resolve) => {\n",
              "    cancel.onclick = () => {\n",
              "      resolve(null);\n",
              "    };\n",
              "  });\n",
              "\n",
              "  // Wait for the user to pick the files.\n",
              "  const files = yield {\n",
              "    promise: Promise.race([pickedPromise, cancelPromise]),\n",
              "    response: {\n",
              "      action: 'starting',\n",
              "    }\n",
              "  };\n",
              "\n",
              "  cancel.remove();\n",
              "\n",
              "  // Disable the input element since further picks are not allowed.\n",
              "  inputElement.disabled = true;\n",
              "\n",
              "  if (!files) {\n",
              "    return {\n",
              "      response: {\n",
              "        action: 'complete',\n",
              "      }\n",
              "    };\n",
              "  }\n",
              "\n",
              "  for (const file of files) {\n",
              "    const li = document.createElement('li');\n",
              "    li.append(span(file.name, {fontWeight: 'bold'}));\n",
              "    li.append(span(\n",
              "        `(${file.type || 'n/a'}) - ${file.size} bytes, ` +\n",
              "        `last modified: ${\n",
              "            file.lastModifiedDate ? file.lastModifiedDate.toLocaleDateString() :\n",
              "                                    'n/a'} - `));\n",
              "    const percent = span('0% done');\n",
              "    li.appendChild(percent);\n",
              "\n",
              "    outputElement.appendChild(li);\n",
              "\n",
              "    const fileDataPromise = new Promise((resolve) => {\n",
              "      const reader = new FileReader();\n",
              "      reader.onload = (e) => {\n",
              "        resolve(e.target.result);\n",
              "      };\n",
              "      reader.readAsArrayBuffer(file);\n",
              "    });\n",
              "    // Wait for the data to be ready.\n",
              "    let fileData = yield {\n",
              "      promise: fileDataPromise,\n",
              "      response: {\n",
              "        action: 'continue',\n",
              "      }\n",
              "    };\n",
              "\n",
              "    // Use a chunked sending to avoid message size limits. See b/62115660.\n",
              "    let position = 0;\n",
              "    do {\n",
              "      const length = Math.min(fileData.byteLength - position, MAX_PAYLOAD_SIZE);\n",
              "      const chunk = new Uint8Array(fileData, position, length);\n",
              "      position += length;\n",
              "\n",
              "      const base64 = btoa(String.fromCharCode.apply(null, chunk));\n",
              "      yield {\n",
              "        response: {\n",
              "          action: 'append',\n",
              "          file: file.name,\n",
              "          data: base64,\n",
              "        },\n",
              "      };\n",
              "\n",
              "      let percentDone = fileData.byteLength === 0 ?\n",
              "          100 :\n",
              "          Math.round((position / fileData.byteLength) * 100);\n",
              "      percent.textContent = `${percentDone}% done`;\n",
              "\n",
              "    } while (position < fileData.byteLength);\n",
              "  }\n",
              "\n",
              "  // All done.\n",
              "  yield {\n",
              "    response: {\n",
              "      action: 'complete',\n",
              "    }\n",
              "  };\n",
              "}\n",
              "\n",
              "scope.google = scope.google || {};\n",
              "scope.google.colab = scope.google.colab || {};\n",
              "scope.google.colab._files = {\n",
              "  _uploadFiles,\n",
              "  _uploadFilesContinue,\n",
              "};\n",
              "})(self);\n",
              "</script> "
            ]
          },
          "metadata": {}
        },
        {
          "output_type": "stream",
          "name": "stdout",
          "text": [
            "Saving archive.zip to archive.zip\n"
          ]
        }
      ]
    },
    {
      "cell_type": "code",
      "source": [
        "import zipfile\n",
        "import io\n",
        "\n",
        "zip_file_name = 'archive.zip'\n",
        "with zipfile.ZipFile(zip_file_name, 'r') as zip_ref:\n",
        "    zip_ref.extractall(\"./dataset\")"
      ],
      "metadata": {
        "id": "FMm_qysIRPhw"
      },
      "execution_count": 5,
      "outputs": []
    },
    {
      "cell_type": "code",
      "source": [
        "import pandas as pd\n",
        "\n",
        "csv_file_path = \"./dataset/ATP.csv\"\n",
        "data = pd.read_csv(csv_file_path)"
      ],
      "metadata": {
        "id": "bgshzDPuSLVB"
      },
      "execution_count": 6,
      "outputs": []
    },
    {
      "cell_type": "code",
      "source": [
        "print(data.head(10))"
      ],
      "metadata": {
        "colab": {
          "base_uri": "https://localhost:8080/"
        },
        "id": "0ZpPcYNISi95",
        "outputId": "b3303653-1ce2-4960-80a3-f685eba97da2"
      },
      "execution_count": 8,
      "outputs": [
        {
          "output_type": "stream",
          "name": "stdout",
          "text": [
            "               Player   Age     Elo HardRaw ClayRaw GrassRaw  \\\n",
            "0      Novak Djokovic  34.5  2185.2    2068  2016.3   1942.4   \n",
            "1     Daniil Medvedev  25.9  2166.2  2095.3  1714.1   1723.4   \n",
            "2    Alexander Zverev  24.7  2141.3  2056.7  1999.1   1671.4   \n",
            "3       Roger Federer  39.9  2043.0  1936.7  1749.6   1813.4   \n",
            "4      Carlos Alcaraz  18.5  2029.5  1906.3  1834.4   1441.4   \n",
            "5  Stefanos Tsitsipas  23.4  2023.0    1882  2005.5   1543.4   \n",
            "6         Casper Ruud  23.0  2010.2    1846  1951.2   1465.9   \n",
            "7        Rafael Nadal  35.6  2007.5    1820  1951.2     1500   \n",
            "8       Jannik Sinner  20.4  2006.1  1931.2    1807   1312.8   \n",
            "9       Dominic Thiem  27.7  2002.1  1934.8  1936.2   1618.3   \n",
            "\n",
            "   hard court elo rating  clay-court elo rating  grass-court elo rating  \\\n",
            "0                 2126.6                 2100.8                  2063.8   \n",
            "1                 2130.7                 1940.1                  1944.8   \n",
            "2                 2099.0                 2070.2                  1906.4   \n",
            "3                 1989.8                 1896.3                  1928.2   \n",
            "4                 1967.9                 1932.0                  1735.5   \n",
            "5                 1952.5                 2014.3                  1783.2   \n",
            "6                 1928.1                 1980.7                  1738.0   \n",
            "7                 1913.7                 1979.3                  1753.7   \n",
            "8                 1968.7                 1906.6                  1659.5   \n",
            "9                 1968.4                 1969.1                  1810.2   \n",
            "\n",
            "              Peak Match  Peak Age  Peak Elo Gender  Rank  \n",
            "0           2016 Miami F      28.8    2470.0   Male     1  \n",
            "1        2022 Atp Cup RR      25.9    2175.1   Male     2  \n",
            "2        2022 Atp Cup RR      24.7    2157.9   Male     3  \n",
            "3           2007 Dubai F      25.6    2382.0   Male     4  \n",
            "4  2021 NextGen Finals F      18.5    2029.5   Male     5  \n",
            "5  2021 Roland Garros SF      22.8    2132.6   Male     6  \n",
            "6    2021 Tour Finals RR      22.9    2032.0   Male     7  \n",
            "7         2009 Madrid SF      22.9    2370.0   Male     8  \n",
            "8      2021 Barcelona QF      19.7    2025.3   Male     9  \n",
            "9         2016 Halle R16      22.8    2123.2   Male    10  \n"
          ]
        }
      ]
    },
    {
      "cell_type": "markdown",
      "source": [
        "## Explanation of Dataset Columns:\n",
        "\n",
        "- Player: The name of the tennis player.\n",
        "- Age: The player's current age in years (decimals represent partial years).\n",
        "- Elo: The player's overall Elo rating, a measure of skill based on match outcomes.\n",
        "- HardRaw: The raw Elo rating of the player on hard courts.\n",
        "- ClayRaw: The raw Elo rating of the player on clay courts.\n",
        "GrassRaw: The raw Elo rating of the player on grass courts.\n",
        "- hard court elo rating: The adjusted Elo rating of the player on hard courts, which may include corrections or updates compared to HardRaw.\n",
        "- clay-court elo rating: The adjusted Elo rating of the player on clay courts.\n",
        "- grass-court elo rating: The adjusted Elo rating of the player on grass courts.\n",
        "- Peak Match: The most notable match where the player reached their peak Elo rating.\n",
        "- Peak Age: The age at which the player achieved their peak Elo rating.\n",
        "- Peak Elo: The highest Elo rating achieved by the player in their career.\n",
        "- Gender: The gender of the player (e.g., Male, Female).\n",
        "- Rank: The player's current rank in the ATP (or WTA for women's tennis) standings."
      ],
      "metadata": {
        "id": "nV8iXaJSbOXw"
      }
    },
    {
      "cell_type": "markdown",
      "source": [
        "# Step 2: EDA(Exploratory Data Analysis)"
      ],
      "metadata": {
        "id": "2fgdR8TWvxi2"
      }
    },
    {
      "cell_type": "code",
      "source": [
        "import pandas as pd\n",
        "import matplotlib.pyplot as plt\n",
        "import seaborn as sns"
      ],
      "metadata": {
        "id": "2_b8jvfSgkPR"
      },
      "execution_count": 9,
      "outputs": []
    },
    {
      "cell_type": "code",
      "source": [
        "# Display basic info about the dataset\n",
        "print(\"Dataset Information:\")\n",
        "print(data.info())\n",
        "\n"
      ],
      "metadata": {
        "id": "0NNEXeKIgqo_",
        "outputId": "ceee3a1a-9323-4a44-90e1-c56b93781845",
        "colab": {
          "base_uri": "https://localhost:8080/"
        }
      },
      "execution_count": 11,
      "outputs": [
        {
          "output_type": "stream",
          "name": "stdout",
          "text": [
            "Dataset Information:\n",
            "<class 'pandas.core.frame.DataFrame'>\n",
            "RangeIndex: 783 entries, 0 to 782\n",
            "Data columns (total 14 columns):\n",
            " #   Column                  Non-Null Count  Dtype  \n",
            "---  ------                  --------------  -----  \n",
            " 0   Player                  783 non-null    object \n",
            " 1   Age                     783 non-null    float64\n",
            " 2   Elo                     783 non-null    float64\n",
            " 3   HardRaw                 783 non-null    object \n",
            " 4   ClayRaw                 783 non-null    object \n",
            " 5   GrassRaw                783 non-null    object \n",
            " 6   hard court elo rating   783 non-null    float64\n",
            " 7   clay-court elo rating   783 non-null    float64\n",
            " 8   grass-court elo rating  783 non-null    float64\n",
            " 9   Peak Match              783 non-null    object \n",
            " 10  Peak Age                783 non-null    float64\n",
            " 11  Peak Elo                783 non-null    float64\n",
            " 12  Gender                  783 non-null    object \n",
            " 13  Rank                    783 non-null    int64  \n",
            "dtypes: float64(7), int64(1), object(6)\n",
            "memory usage: 85.8+ KB\n",
            "None\n"
          ]
        }
      ]
    },
    {
      "cell_type": "code",
      "source": [
        "\n",
        "\n",
        "\n",
        "\n",
        "# Check for missing values\n",
        "print(\"\\nMissing Values:\")\n",
        "print(data.isnull().sum())\n",
        "\n",
        "# Check the distribution of Elo ratings\n",
        "plt.figure(figsize=(10, 6))\n",
        "sns.histplot(data['Elo'], kde=True, bins=30, color='blue')\n",
        "plt.title('Distribution of Overall Elo Ratings')\n",
        "plt.xlabel('Elo Rating')\n",
        "plt.ylabel('Frequency')\n",
        "plt.show()\n",
        "\n",
        "# Visualize Elo ratings by court type\n",
        "court_types = ['HardRaw', 'ClayRaw', 'GrassRaw']\n",
        "plt.figure(figsize=(12, 6))\n",
        "for court in court_types:\n",
        "    sns.kdeplot(data[court], label=court)\n",
        "plt.title('Elo Ratings by Court Type')\n",
        "plt.xlabel('Elo Rating')\n",
        "plt.ylabel('Density')\n",
        "plt.legend()\n",
        "plt.show()\n",
        "\n",
        "# Correlation heatmap\n",
        "plt.figure(figsize=(12, 8))\n",
        "correlation_matrix = data.corr()\n",
        "sns.heatmap(correlation_matrix, annot=True, cmap='coolwarm', fmt='.2f')\n",
        "plt.title('Correlation Heatmap')\n",
        "plt.show()\n",
        "\n",
        "# Gender distribution\n",
        "plt.figure(figsize=(6, 6))\n",
        "sns.countplot(x='Gender', data=data, palette='pastel')\n",
        "plt.title('Gender Distribution')\n",
        "plt.xlabel('Gender')\n",
        "plt.ylabel('Count')\n",
        "plt.show()\n",
        "\n",
        "# Age vs Elo scatter plot\n",
        "plt.figure(figsize=(10, 6))\n",
        "sns.scatterplot(x='Age', y='Elo', hue='Gender', data=data, palette='cool')\n",
        "plt.title('Age vs. Elo Rating')\n",
        "plt.xlabel('Age')\n",
        "plt.ylabel('Elo Rating')\n",
        "plt.show()\n",
        "\n",
        "# Ranking distribution\n",
        "plt.figure(figsize=(10, 6))\n",
        "sns.boxplot(x='Rank', y='Elo', data=data)\n",
        "plt.title('Elo Ratings Across Ranks')\n",
        "plt.xlabel('Rank')\n",
        "plt.ylabel('Elo Rating')\n",
        "plt.xticks(rotation=90)\n",
        "plt.show()\n"
      ],
      "metadata": {
        "id": "ZateOmpmgdtK"
      },
      "execution_count": null,
      "outputs": []
    },
    {
      "cell_type": "markdown",
      "source": [
        "# Step 3: Preprocessing"
      ],
      "metadata": {
        "id": "SRQTcqh8wB0w"
      }
    },
    {
      "cell_type": "markdown",
      "source": [
        "# Step 4: Split dataset"
      ],
      "metadata": {
        "id": "xE-YU7ZQwJBx"
      }
    },
    {
      "cell_type": "markdown",
      "source": [
        "# Step 5: Train Model"
      ],
      "metadata": {
        "id": "KyVp3jR9wQJV"
      }
    },
    {
      "cell_type": "markdown",
      "source": [
        "# step 6: Evaluate the model utilizing multiple metrics"
      ],
      "metadata": {
        "id": "CXBLjKxOwXOO"
      }
    }
  ]
}