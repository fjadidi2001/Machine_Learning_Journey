{
  "nbformat": 4,
  "nbformat_minor": 0,
  "metadata": {
    "colab": {
      "provenance": [],
      "authorship_tag": "ABX9TyN7libJJiKcUG9GSFqMW1Af",
      "include_colab_link": true
    },
    "kernelspec": {
      "name": "python3",
      "display_name": "Python 3"
    },
    "language_info": {
      "name": "python"
    }
  },
  "cells": [
    {
      "cell_type": "markdown",
      "metadata": {
        "id": "view-in-github",
        "colab_type": "text"
      },
      "source": [
        "<a href=\"https://colab.research.google.com/github/fjadidi2001/Machine_Learning_Journey/blob/main/Predict_ATP_tennis.ipynb\" target=\"_parent\"><img src=\"https://colab.research.google.com/assets/colab-badge.svg\" alt=\"Open In Colab\"/></a>"
      ]
    },
    {
      "cell_type": "markdown",
      "source": [
        "> ATP stands for the Association of Tennis Professionals. It is the governing body for men's professional tennis worldwide. Founded in 1972, the ATP is responsible for organizing the ATP Tour, which includes a series of tournaments such as the ATP Masters 1000, ATP 500, and ATP 250 events, along with the prestigious ATP Finals and the Davis Cup.\n",
        "\n",
        "> The ATP also ranks male players based on their performance in tournaments, creating the ATP Rankings, which reflect players' results over the previous 52 weeks. The ATP plays a significant role in promoting the sport, securing player rights, and managing tournament standards.\n"
      ],
      "metadata": {
        "id": "Ot8jZQb3vHb-"
      }
    },
    {
      "cell_type": "markdown",
      "source": [
        "\n",
        "\n",
        "# Problem Statement:\n",
        "> “Analyzing and Predicting Player Performance in Professional Tennis: An Exploration of Court-Type Specialization and Peak Performance Age”\n",
        "\n",
        "\n"
      ],
      "metadata": {
        "id": "vZP8ph_axS_3"
      }
    },
    {
      "cell_type": "markdown",
      "source": [
        "\n",
        "## Project Objectives\n",
        "1. **Exploratory Analysis of Player Characteristics**  \n",
        "   - Analyze the distribution of player ages, rankings, and Elo ratings across different surfaces (hard court, clay court, grass court).\n",
        "   - Identify trends in age and performance metrics to determine how they vary across court types.\n",
        "\n",
        "2. **Court-Type Specialization Prediction**  \n",
        "   - Build a classification model to predict a player's specialization (e.g., \"hard-court specialist,\" \"clay-court specialist,\" or \"all-rounder\") based on historical performance data.\n",
        "\n",
        "3. **Peak Performance Prediction**  \n",
        "   - Investigate the relationship between age and peak performance, specifically focusing on the \"Peak Age\" and \"Peak Elo\" features.\n",
        "   - Use regression techniques to predict a player’s peak Elo rating and the age at which they will reach peak performance.\n",
        "\n",
        "4. **Gender-Based Performance Analysis**  \n",
        "   - Conduct a comparative analysis of performance metrics between male and female players, examining if and how gender influences court-type specialization and peak performance.\n",
        "\n",
        "5. **Evaluation and Interpretability**  \n",
        "   - Evaluate model performance using metrics such as accuracy, F1-score, mean squared error (MSE), etc., depending on the task (classification or regression).\n",
        "   - Incorporate interpretability techniques (e.g., SHAP values or feature importance) to provide insights into the factors contributing to a player’s peak performance and specialization.\n",
        "\n"
      ],
      "metadata": {
        "id": "KIzurq9Bxsmp"
      }
    },
    {
      "cell_type": "markdown",
      "source": [
        "\n",
        "### Contribution and Impact\n",
        "This project could provide valuable insights into tennis player development and training, helping coaches and analysts better understand the factors that contribute to a player’s success on different court types. It could also provide insights into the ideal age for peak performance, which is valuable for athlete management and career planning."
      ],
      "metadata": {
        "id": "K1X_ThTryB5W"
      }
    },
    {
      "cell_type": "markdown",
      "source": [
        "# Step 1: load the dataset"
      ],
      "metadata": {
        "id": "X8BtYnRSvtGp"
      }
    },
    {
      "cell_type": "code",
      "source": [
        "from google.colab import files\n",
        "uploaded = files.upload()"
      ],
      "metadata": {
        "colab": {
          "base_uri": "https://localhost:8080/",
          "height": 73
        },
        "id": "qPk4WY98Q0y2",
        "outputId": "0f4053b1-34e2-4791-f31f-d489044ef642"
      },
      "execution_count": 2,
      "outputs": [
        {
          "output_type": "display_data",
          "data": {
            "text/plain": [
              "<IPython.core.display.HTML object>"
            ],
            "text/html": [
              "\n",
              "     <input type=\"file\" id=\"files-0b4a324d-661c-4503-8147-59d541c10f4b\" name=\"files[]\" multiple disabled\n",
              "        style=\"border:none\" />\n",
              "     <output id=\"result-0b4a324d-661c-4503-8147-59d541c10f4b\">\n",
              "      Upload widget is only available when the cell has been executed in the\n",
              "      current browser session. Please rerun this cell to enable.\n",
              "      </output>\n",
              "      <script>// Copyright 2017 Google LLC\n",
              "//\n",
              "// Licensed under the Apache License, Version 2.0 (the \"License\");\n",
              "// you may not use this file except in compliance with the License.\n",
              "// You may obtain a copy of the License at\n",
              "//\n",
              "//      http://www.apache.org/licenses/LICENSE-2.0\n",
              "//\n",
              "// Unless required by applicable law or agreed to in writing, software\n",
              "// distributed under the License is distributed on an \"AS IS\" BASIS,\n",
              "// WITHOUT WARRANTIES OR CONDITIONS OF ANY KIND, either express or implied.\n",
              "// See the License for the specific language governing permissions and\n",
              "// limitations under the License.\n",
              "\n",
              "/**\n",
              " * @fileoverview Helpers for google.colab Python module.\n",
              " */\n",
              "(function(scope) {\n",
              "function span(text, styleAttributes = {}) {\n",
              "  const element = document.createElement('span');\n",
              "  element.textContent = text;\n",
              "  for (const key of Object.keys(styleAttributes)) {\n",
              "    element.style[key] = styleAttributes[key];\n",
              "  }\n",
              "  return element;\n",
              "}\n",
              "\n",
              "// Max number of bytes which will be uploaded at a time.\n",
              "const MAX_PAYLOAD_SIZE = 100 * 1024;\n",
              "\n",
              "function _uploadFiles(inputId, outputId) {\n",
              "  const steps = uploadFilesStep(inputId, outputId);\n",
              "  const outputElement = document.getElementById(outputId);\n",
              "  // Cache steps on the outputElement to make it available for the next call\n",
              "  // to uploadFilesContinue from Python.\n",
              "  outputElement.steps = steps;\n",
              "\n",
              "  return _uploadFilesContinue(outputId);\n",
              "}\n",
              "\n",
              "// This is roughly an async generator (not supported in the browser yet),\n",
              "// where there are multiple asynchronous steps and the Python side is going\n",
              "// to poll for completion of each step.\n",
              "// This uses a Promise to block the python side on completion of each step,\n",
              "// then passes the result of the previous step as the input to the next step.\n",
              "function _uploadFilesContinue(outputId) {\n",
              "  const outputElement = document.getElementById(outputId);\n",
              "  const steps = outputElement.steps;\n",
              "\n",
              "  const next = steps.next(outputElement.lastPromiseValue);\n",
              "  return Promise.resolve(next.value.promise).then((value) => {\n",
              "    // Cache the last promise value to make it available to the next\n",
              "    // step of the generator.\n",
              "    outputElement.lastPromiseValue = value;\n",
              "    return next.value.response;\n",
              "  });\n",
              "}\n",
              "\n",
              "/**\n",
              " * Generator function which is called between each async step of the upload\n",
              " * process.\n",
              " * @param {string} inputId Element ID of the input file picker element.\n",
              " * @param {string} outputId Element ID of the output display.\n",
              " * @return {!Iterable<!Object>} Iterable of next steps.\n",
              " */\n",
              "function* uploadFilesStep(inputId, outputId) {\n",
              "  const inputElement = document.getElementById(inputId);\n",
              "  inputElement.disabled = false;\n",
              "\n",
              "  const outputElement = document.getElementById(outputId);\n",
              "  outputElement.innerHTML = '';\n",
              "\n",
              "  const pickedPromise = new Promise((resolve) => {\n",
              "    inputElement.addEventListener('change', (e) => {\n",
              "      resolve(e.target.files);\n",
              "    });\n",
              "  });\n",
              "\n",
              "  const cancel = document.createElement('button');\n",
              "  inputElement.parentElement.appendChild(cancel);\n",
              "  cancel.textContent = 'Cancel upload';\n",
              "  const cancelPromise = new Promise((resolve) => {\n",
              "    cancel.onclick = () => {\n",
              "      resolve(null);\n",
              "    };\n",
              "  });\n",
              "\n",
              "  // Wait for the user to pick the files.\n",
              "  const files = yield {\n",
              "    promise: Promise.race([pickedPromise, cancelPromise]),\n",
              "    response: {\n",
              "      action: 'starting',\n",
              "    }\n",
              "  };\n",
              "\n",
              "  cancel.remove();\n",
              "\n",
              "  // Disable the input element since further picks are not allowed.\n",
              "  inputElement.disabled = true;\n",
              "\n",
              "  if (!files) {\n",
              "    return {\n",
              "      response: {\n",
              "        action: 'complete',\n",
              "      }\n",
              "    };\n",
              "  }\n",
              "\n",
              "  for (const file of files) {\n",
              "    const li = document.createElement('li');\n",
              "    li.append(span(file.name, {fontWeight: 'bold'}));\n",
              "    li.append(span(\n",
              "        `(${file.type || 'n/a'}) - ${file.size} bytes, ` +\n",
              "        `last modified: ${\n",
              "            file.lastModifiedDate ? file.lastModifiedDate.toLocaleDateString() :\n",
              "                                    'n/a'} - `));\n",
              "    const percent = span('0% done');\n",
              "    li.appendChild(percent);\n",
              "\n",
              "    outputElement.appendChild(li);\n",
              "\n",
              "    const fileDataPromise = new Promise((resolve) => {\n",
              "      const reader = new FileReader();\n",
              "      reader.onload = (e) => {\n",
              "        resolve(e.target.result);\n",
              "      };\n",
              "      reader.readAsArrayBuffer(file);\n",
              "    });\n",
              "    // Wait for the data to be ready.\n",
              "    let fileData = yield {\n",
              "      promise: fileDataPromise,\n",
              "      response: {\n",
              "        action: 'continue',\n",
              "      }\n",
              "    };\n",
              "\n",
              "    // Use a chunked sending to avoid message size limits. See b/62115660.\n",
              "    let position = 0;\n",
              "    do {\n",
              "      const length = Math.min(fileData.byteLength - position, MAX_PAYLOAD_SIZE);\n",
              "      const chunk = new Uint8Array(fileData, position, length);\n",
              "      position += length;\n",
              "\n",
              "      const base64 = btoa(String.fromCharCode.apply(null, chunk));\n",
              "      yield {\n",
              "        response: {\n",
              "          action: 'append',\n",
              "          file: file.name,\n",
              "          data: base64,\n",
              "        },\n",
              "      };\n",
              "\n",
              "      let percentDone = fileData.byteLength === 0 ?\n",
              "          100 :\n",
              "          Math.round((position / fileData.byteLength) * 100);\n",
              "      percent.textContent = `${percentDone}% done`;\n",
              "\n",
              "    } while (position < fileData.byteLength);\n",
              "  }\n",
              "\n",
              "  // All done.\n",
              "  yield {\n",
              "    response: {\n",
              "      action: 'complete',\n",
              "    }\n",
              "  };\n",
              "}\n",
              "\n",
              "scope.google = scope.google || {};\n",
              "scope.google.colab = scope.google.colab || {};\n",
              "scope.google.colab._files = {\n",
              "  _uploadFiles,\n",
              "  _uploadFilesContinue,\n",
              "};\n",
              "})(self);\n",
              "</script> "
            ]
          },
          "metadata": {}
        },
        {
          "output_type": "stream",
          "name": "stdout",
          "text": [
            "Saving archive.zip to archive.zip\n"
          ]
        }
      ]
    },
    {
      "cell_type": "code",
      "source": [
        "import zipfile\n",
        "import io\n",
        "\n",
        "zip_file_name = 'archive.zip'\n",
        "with zipfile.ZipFile(zip_file_name, 'r') as zip_ref:\n",
        "    zip_ref.extractall(\"./dataset\")"
      ],
      "metadata": {
        "id": "FMm_qysIRPhw"
      },
      "execution_count": 5,
      "outputs": []
    },
    {
      "cell_type": "code",
      "source": [
        "import pandas as pd\n",
        "\n",
        "csv_file_path = \"./dataset/ATP.csv\"\n",
        "data = pd.read_csv(csv_file_path)"
      ],
      "metadata": {
        "id": "bgshzDPuSLVB"
      },
      "execution_count": 6,
      "outputs": []
    },
    {
      "cell_type": "code",
      "source": [
        "print(data.head())"
      ],
      "metadata": {
        "colab": {
          "base_uri": "https://localhost:8080/"
        },
        "id": "0ZpPcYNISi95",
        "outputId": "52a03977-d172-4fb8-8bcc-9a27324cbe7a"
      },
      "execution_count": 7,
      "outputs": [
        {
          "output_type": "stream",
          "name": "stdout",
          "text": [
            "             Player   Age     Elo HardRaw ClayRaw GrassRaw  \\\n",
            "0    Novak Djokovic  34.5  2185.2    2068  2016.3   1942.4   \n",
            "1   Daniil Medvedev  25.9  2166.2  2095.3  1714.1   1723.4   \n",
            "2  Alexander Zverev  24.7  2141.3  2056.7  1999.1   1671.4   \n",
            "3     Roger Federer  39.9  2043.0  1936.7  1749.6   1813.4   \n",
            "4    Carlos Alcaraz  18.5  2029.5  1906.3  1834.4   1441.4   \n",
            "\n",
            "   hard court elo rating  clay-court elo rating  grass-court elo rating  \\\n",
            "0                 2126.6                 2100.8                  2063.8   \n",
            "1                 2130.7                 1940.1                  1944.8   \n",
            "2                 2099.0                 2070.2                  1906.4   \n",
            "3                 1989.8                 1896.3                  1928.2   \n",
            "4                 1967.9                 1932.0                  1735.5   \n",
            "\n",
            "              Peak Match  Peak Age  Peak Elo Gender  Rank  \n",
            "0           2016 Miami F      28.8    2470.0   Male     1  \n",
            "1        2022 Atp Cup RR      25.9    2175.1   Male     2  \n",
            "2        2022 Atp Cup RR      24.7    2157.9   Male     3  \n",
            "3           2007 Dubai F      25.6    2382.0   Male     4  \n",
            "4  2021 NextGen Finals F      18.5    2029.5   Male     5  \n"
          ]
        }
      ]
    },
    {
      "cell_type": "markdown",
      "source": [
        "Detailed explanation of each column in dataset:\n",
        "\n",
        "1. **Player**:\n",
        "   - **Description**: The name of the tennis player. This is typically the player’s full name, which may include first and last names or additional titles.\n",
        "   - **Use Case**: Useful for identifying individual players within the dataset and for any player-specific analyses.\n",
        "\n",
        "2. **Age**:\n",
        "   - **Description**: The age of the player, likely calculated at the time of data collection.\n",
        "   - **Use Case**: Important for analyzing the impact of age on player performance, rankings, and potential career longevity.\n",
        "\n",
        "3. **Elo**:\n",
        "   - **Description**: The player's overall Elo rating, which is a metric used to estimate a player’s skill level based on match results. **Higher Elo ratings indicate better performance.**\n",
        "   - **Use Case**: Often used as a measure of player strength in predictive modeling or comparative analysis against other players.\n",
        "\n",
        "4. **HardRaw**:\n",
        "   - **Description**: The player's Elo rating specifically for hard court surfaces.\n",
        "   - **Use Case**: Useful for analyzing player performance specifically on hard courts, helping to understand strengths and weaknesses on different surfaces.\n",
        "\n",
        "5. **ClayRaw**:\n",
        "   - **Description**: The player's Elo rating specifically for clay court surfaces.\n",
        "   - **Use Case**: Similar to **HardRaw**, it provides insights into player performance on clay courts, which can differ significantly from performance on other surfaces.\n",
        "\n",
        "6. **GrassRaw**:\n",
        "   - **Description**: The player's Elo rating specifically for grass court surfaces.\n",
        "   - **Use Case**: Highlights player strengths and weaknesses on grass courts, important for tournaments played on this surface, like Wimbledon.\n",
        "\n",
        "7. **hard court elo rating**:\n",
        "   - **Description**: This might represent a more refined or updated ranking for hard court surfaces.\n",
        "   - **Use Case**: This column can provide an up-to-date assessment of player performance on hard courts.\n",
        "\n",
        "8. **clay-court elo rating**:\n",
        "   - **Description**: Similar to the previous column, but focused on clay courts.\n",
        "   - **Use Case**: Indicates how the player's skills are evaluated on clay surfaces, potentially offering comparisons with historical or surface-specific performance.\n",
        "\n",
        "9. **grass-court elo rating**:\n",
        "   - **Description**: Represents the player's Elo rating for grass courts, possibly indicating recent performance trends.\n",
        "   - **Use Case**: Helps in understanding how well the player performs on grass compared to their overall performance.\n",
        "\n",
        "10. **Peak Match**:\n",
        "    - **Description**: The name of a specific match where the player achieved their peak Elo rating or notable performance.\n",
        "    - **Use Case**: This column can be used to identify key matches in a player's career that contributed to their highest performance metrics.\n",
        "\n",
        "11. **Peak Age**:\n",
        "    - **Description**: The age at which the player achieved their peak Elo rating or performance.\n",
        "    - **Use Case**: Useful for analyzing career trajectories and understanding the age at which players typically perform their best.\n",
        "\n",
        "12. **Peak Elo**:\n",
        "    - **Description**: The highest Elo rating achieved by the player.\n",
        "    - **Use Case**: This column is crucial for assessing historical performance and potential peaks in skill level over the player’s career.\n",
        "\n",
        "13. **Gender**:\n",
        "    - **Description**: Indicates the player's gender (e.g., Male, Female).\n",
        "    - **Use Case**: Important for gender-based analysis in tennis, helping to identify trends and differences in performance or rankings between genders.\n",
        "\n",
        "14. **Rank**:\n",
        "    - **Description**: The player's current ATP/WTA ranking, which is a reflection of their performance over a specified period.\n",
        "    - **Use Case**: This is key for understanding a player’s standing in professional tennis and is often the target variable in ranking-related analyses.\n",
        "\n",
        "### Summary\n",
        "\n",
        "These columns offer a diverse array of metrics that facilitate in-depth analyses of player performance across different stages of their careers and on various surfaces. You can leverage this dataset for predictive modeling, performance analysis, or comparative studies between players.\n",
        "\n",
        "If you need more details on how to use this data effectively or have any specific analyses in mind, let me know!\n"
      ],
      "metadata": {
        "id": "nV8iXaJSbOXw"
      }
    },
    {
      "cell_type": "markdown",
      "source": [
        "# Step 2: EDA(Exploratory Data Analysis)"
      ],
      "metadata": {
        "id": "2fgdR8TWvxi2"
      }
    },
    {
      "cell_type": "markdown",
      "source": [
        "# Step 3: Preprocessing"
      ],
      "metadata": {
        "id": "SRQTcqh8wB0w"
      }
    },
    {
      "cell_type": "markdown",
      "source": [
        "# Step 4: Split dataset"
      ],
      "metadata": {
        "id": "xE-YU7ZQwJBx"
      }
    },
    {
      "cell_type": "markdown",
      "source": [
        "# Step 5: Train Model"
      ],
      "metadata": {
        "id": "KyVp3jR9wQJV"
      }
    },
    {
      "cell_type": "markdown",
      "source": [
        "# step 6: Evaluate the model utilizing multiple metrics"
      ],
      "metadata": {
        "id": "CXBLjKxOwXOO"
      }
    }
  ]
}