{
  "nbformat": 4,
  "nbformat_minor": 0,
  "metadata": {
    "colab": {
      "provenance": [],
      "authorship_tag": "ABX9TyNgnLNvsRGTueIKzNysV7Xw",
      "include_colab_link": true
    },
    "kernelspec": {
      "name": "python3",
      "display_name": "Python 3"
    },
    "language_info": {
      "name": "python"
    }
  },
  "cells": [
    {
      "cell_type": "markdown",
      "metadata": {
        "id": "view-in-github",
        "colab_type": "text"
      },
      "source": [
        "<a href=\"https://colab.research.google.com/github/fjadidi2001/Machine_Learning_Journey/blob/main/tennis_prediction.ipynb\" target=\"_parent\"><img src=\"https://colab.research.google.com/assets/colab-badge.svg\" alt=\"Open In Colab\"/></a>"
      ]
    },
    {
      "cell_type": "code",
      "execution_count": 1,
      "metadata": {
        "id": "Hus8PlVZ68vr"
      },
      "outputs": [],
      "source": [
        "from sklearn import tree\n",
        "from sklearn.model_selection import train_test_split\n",
        "from sklearn.metrics import accuracy_score"
      ]
    },
    {
      "cell_type": "code",
      "source": [
        "# Define the features (independent variables) and target variable (dependent variable)\n",
        "features = [['Sunny', 'Hot', 'High', 'False'],\n",
        "           ['Sunny', 'Hot', 'High', 'True'],\n",
        "           ['Overcast', 'Hot', 'High', 'False'],\n",
        "           ['Rainy', 'Mild', 'High', 'False'],\n",
        "           ['Rainy', 'Cool', 'Normal', 'False'],\n",
        "           ['Rainy', 'Cool', 'Normal', 'True'],\n",
        "           ['Overcast', 'Cool', 'Normal', 'True'],\n",
        "           ['Sunny', 'Mild', 'High', 'False'],\n",
        "           ['Sunny', 'Cool', 'Normal', 'False'],\n",
        "           ['Rainy', 'Mild', 'Normal', 'False'],\n",
        "           ['Sunny', 'Mild', 'Normal', 'True'],\n",
        "           ['Overcast', 'Mild', 'High', 'True'],\n",
        "           ['Overcast', 'Hot', 'Normal', 'False'],\n",
        "           ['Rainy', 'Mild', 'High', 'True']]\n",
        "\n",
        "target = ['No', 'No', 'Yes', 'Yes', 'Yes', 'No', 'Yes', 'No', 'Yes', 'Yes', 'Yes', 'Yes', 'Yes', 'No']"
      ],
      "metadata": {
        "id": "lkCctHJy0BZV"
      },
      "execution_count": 2,
      "outputs": []
    },
    {
      "cell_type": "code",
      "source": [
        "X_train, X_test, y_train, y_test = train_test_split(features, target, test_size=0.3, random_state=0)"
      ],
      "metadata": {
        "id": "meegalnr0sJt"
      },
      "execution_count": 3,
      "outputs": []
    },
    {
      "cell_type": "code",
      "source": [],
      "metadata": {
        "id": "C8pbImiI0vYq"
      },
      "execution_count": null,
      "outputs": []
    }
  ]
}