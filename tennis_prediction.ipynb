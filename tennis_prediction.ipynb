{
  "nbformat": 4,
  "nbformat_minor": 0,
  "metadata": {
    "colab": {
      "provenance": [],
      "authorship_tag": "ABX9TyMiMJAK+yvhbCumcCdn6VoH",
      "include_colab_link": true
    },
    "kernelspec": {
      "name": "python3",
      "display_name": "Python 3"
    },
    "language_info": {
      "name": "python"
    }
  },
  "cells": [
    {
      "cell_type": "markdown",
      "metadata": {
        "id": "view-in-github",
        "colab_type": "text"
      },
      "source": [
        "<a href=\"https://colab.research.google.com/github/fjadidi2001/Machine_Learning_Journey/blob/main/tennis_prediction.ipynb\" target=\"_parent\"><img src=\"https://colab.research.google.com/assets/colab-badge.svg\" alt=\"Open In Colab\"/></a>"
      ]
    },
    {
      "cell_type": "code",
      "source": [
        "from sklearn import tree\n",
        "from sklearn.model_selection import train_test_split\n",
        "from sklearn.metrics import accuracy_score\n",
        "from sklearn.preprocessing import LabelEncoder\n",
        "\n",
        "# Define the features (independent variables) and target variable (dependent variable)\n",
        "features = [['Sunny', 'Hot', 'High', 'False'],\n",
        "           ['Sunny', 'Hot', 'High', 'True'],\n",
        "           ['Overcast', 'Hot', 'High', 'False'],\n",
        "           ['Rainy', 'Mild', 'High', 'False'],\n",
        "           ['Rainy', 'Cool', 'Normal', 'False'],\n",
        "           ['Rainy', 'Cool', 'Normal', 'True'],\n",
        "           ['Overcast', 'Cool', 'Normal', 'True'],\n",
        "           ['Sunny', 'Mild', 'High', 'False'],\n",
        "           ['Sunny', 'Cool', 'Normal', 'False'],\n",
        "           ['Rainy', 'Mild', 'Normal', 'False'],\n",
        "           ['Sunny', 'Mild', 'Normal', 'True'],\n",
        "           ['Overcast', 'Mild', 'High', 'True'],\n",
        "           ['Overcast', 'Hot', 'Normal', 'False'],\n",
        "           ['Rainy', 'Mild', 'High', 'True']]\n",
        "\n",
        "target = ['No', 'No', 'Yes', 'Yes', 'Yes', 'No', 'Yes', 'No', 'Yes', 'Yes', 'Yes', 'Yes', 'Yes', 'No']\n",
        "\n",
        "# Create a LabelEncoder instance\n",
        "le = LabelEncoder()\n",
        "\n",
        "# Create a new list to store the encoded features\n",
        "encoded_features = []\n",
        "\n",
        "# Fit the LabelEncoder for each column separately\n",
        "num_features = len(features[0]) # Number of features/columns\n",
        "encoders = [LabelEncoder() for _ in range(num_features)] # Create a separate encoder for each column\n",
        "\n",
        "# Fit the encoders for each feature (column)\n",
        "for i in range(num_features):\n",
        "    encoders[i].fit([row[i] for row in features])\n",
        "\n",
        "# Transform the features using the fitted encoders\n",
        "for row in features:\n",
        "    encoded_row = [encoders[i].transform([val])[0] for i, val in enumerate(row)]\n",
        "    encoded_features.append(encoded_row)\n",
        "\n",
        "\n",
        "# Check the shape of features and target to ensure consistency\n",
        "print(\"Shape of features_encoded:\", len(encoded_features), len(encoded_features[0]))\n",
        "print(\"Shape of target:\", len(target))\n",
        "\n",
        "# Now features_encoded and target should have consistent shapes\n",
        "X_train, X_test, y_train, y_test = train_test_split(encoded_features, target, test_size=0.3, random_state=0)"
      ],
      "metadata": {
        "colab": {
          "base_uri": "https://localhost:8080/"
        },
        "id": "meegalnr0sJt",
        "outputId": "575109dd-f65a-42b8-a7ec-dbf834eda558"
      },
      "execution_count": 9,
      "outputs": [
        {
          "output_type": "stream",
          "name": "stdout",
          "text": [
            "Shape of features_encoded: 14 4\n",
            "Shape of target: 14\n"
          ]
        }
      ]
    },
    {
      "cell_type": "code",
      "source": [
        "clf = tree.DecisionTreeClassifier()\n",
        "clf = clf.fit(X_train, y_train)"
      ],
      "metadata": {
        "id": "C8pbImiI0vYq"
      },
      "execution_count": 10,
      "outputs": []
    },
    {
      "cell_type": "code",
      "source": [
        "# Make predictions on the testing data\n",
        "y_pred = clf.predict(X_test)\n",
        "\n",
        "# Evaluate the model\n",
        "accuracy = accuracy_score(y_test, y_pred)\n",
        "print(\"Accuracy:\", accuracy)"
      ],
      "metadata": {
        "colab": {
          "base_uri": "https://localhost:8080/"
        },
        "id": "OBg3PAB11eQB",
        "outputId": "00d363b7-aa36-4f4d-e927-193494d8fdd6"
      },
      "execution_count": 11,
      "outputs": [
        {
          "output_type": "stream",
          "name": "stdout",
          "text": [
            "Accuracy: 0.2\n"
          ]
        }
      ]
    },
    {
      "cell_type": "code",
      "source": [
        "import pandas as pd\n",
        "from sklearn.metrics import classification_report\n",
        "# Print classification report\n",
        "print(classification_report(y_test, y_pred))"
      ],
      "metadata": {
        "colab": {
          "base_uri": "https://localhost:8080/"
        },
        "id": "PQAe71iY24Pm",
        "outputId": "c738954d-12be-4907-c123-e0f6ad23866a"
      },
      "execution_count": 13,
      "outputs": [
        {
          "output_type": "stream",
          "name": "stdout",
          "text": [
            "              precision    recall  f1-score   support\n",
            "\n",
            "          No       0.00      0.00      0.00         0\n",
            "         Yes       1.00      0.20      0.33         5\n",
            "\n",
            "    accuracy                           0.20         5\n",
            "   macro avg       0.50      0.10      0.17         5\n",
            "weighted avg       1.00      0.20      0.33         5\n",
            "\n"
          ]
        },
        {
          "output_type": "stream",
          "name": "stderr",
          "text": [
            "/usr/local/lib/python3.10/dist-packages/sklearn/metrics/_classification.py:1531: UndefinedMetricWarning: Recall is ill-defined and being set to 0.0 in labels with no true samples. Use `zero_division` parameter to control this behavior.\n",
            "  _warn_prf(average, modifier, f\"{metric.capitalize()} is\", len(result))\n",
            "/usr/local/lib/python3.10/dist-packages/sklearn/metrics/_classification.py:1531: UndefinedMetricWarning: Recall is ill-defined and being set to 0.0 in labels with no true samples. Use `zero_division` parameter to control this behavior.\n",
            "  _warn_prf(average, modifier, f\"{metric.capitalize()} is\", len(result))\n",
            "/usr/local/lib/python3.10/dist-packages/sklearn/metrics/_classification.py:1531: UndefinedMetricWarning: Recall is ill-defined and being set to 0.0 in labels with no true samples. Use `zero_division` parameter to control this behavior.\n",
            "  _warn_prf(average, modifier, f\"{metric.capitalize()} is\", len(result))\n"
          ]
        }
      ]
    },
    {
      "cell_type": "code",
      "source": [
        "import pandas as pd\n",
        "from sklearn.metrics import confusion_matrix\n",
        "# Print confusion matrix\n",
        "print(confusion_matrix(y_test, y_pred))\n"
      ],
      "metadata": {
        "colab": {
          "base_uri": "https://localhost:8080/"
        },
        "id": "GxUMasp73J-7",
        "outputId": "01ca635b-7265-43ab-e8eb-c701779b1c68"
      },
      "execution_count": 14,
      "outputs": [
        {
          "output_type": "stream",
          "name": "stdout",
          "text": [
            "[[0 0]\n",
            " [4 1]]\n"
          ]
        }
      ]
    }
  ]
}