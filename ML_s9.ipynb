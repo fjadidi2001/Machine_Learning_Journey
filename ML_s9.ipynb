{
  "nbformat": 4,
  "nbformat_minor": 0,
  "metadata": {
    "colab": {
      "provenance": [],
      "authorship_tag": "ABX9TyMFg1WThovRq3QU7G/TojiU",
      "include_colab_link": true
    },
    "kernelspec": {
      "name": "python3",
      "display_name": "Python 3"
    },
    "language_info": {
      "name": "python"
    },
    "widgets": {
      "application/vnd.jupyter.widget-state+json": {
        "01dce2c8f6ed4676a88ca55c1a08a0b1": {
          "model_module": "@jupyter-widgets/controls",
          "model_name": "HBoxModel",
          "model_module_version": "1.5.0",
          "state": {
            "_dom_classes": [],
            "_model_module": "@jupyter-widgets/controls",
            "_model_module_version": "1.5.0",
            "_model_name": "HBoxModel",
            "_view_count": null,
            "_view_module": "@jupyter-widgets/controls",
            "_view_module_version": "1.5.0",
            "_view_name": "HBoxView",
            "box_style": "",
            "children": [
              "IPY_MODEL_a289c9529c804ba0a3910f42bfb91c29",
              "IPY_MODEL_fed02d92174342e4928b4f12ed8d243c",
              "IPY_MODEL_7e434889ebfc49128f3a9a1502c60d5b"
            ],
            "layout": "IPY_MODEL_194f2947d8a54b27bb3d17b320e281ad"
          }
        },
        "a289c9529c804ba0a3910f42bfb91c29": {
          "model_module": "@jupyter-widgets/controls",
          "model_name": "HTMLModel",
          "model_module_version": "1.5.0",
          "state": {
            "_dom_classes": [],
            "_model_module": "@jupyter-widgets/controls",
            "_model_module_version": "1.5.0",
            "_model_name": "HTMLModel",
            "_view_count": null,
            "_view_module": "@jupyter-widgets/controls",
            "_view_module_version": "1.5.0",
            "_view_name": "HTMLView",
            "description": "",
            "description_tooltip": null,
            "layout": "IPY_MODEL_4fe849cadd2a43b3847dae5ef487b41b",
            "placeholder": "​",
            "style": "IPY_MODEL_6068013225eb454fb1c292638dc881cd",
            "value": "Dl Completed...: 100%"
          }
        },
        "fed02d92174342e4928b4f12ed8d243c": {
          "model_module": "@jupyter-widgets/controls",
          "model_name": "FloatProgressModel",
          "model_module_version": "1.5.0",
          "state": {
            "_dom_classes": [],
            "_model_module": "@jupyter-widgets/controls",
            "_model_module_version": "1.5.0",
            "_model_name": "FloatProgressModel",
            "_view_count": null,
            "_view_module": "@jupyter-widgets/controls",
            "_view_module_version": "1.5.0",
            "_view_name": "ProgressView",
            "bar_style": "success",
            "description": "",
            "description_tooltip": null,
            "layout": "IPY_MODEL_f663fd098d284e6b837be66f2127f78d",
            "max": 5,
            "min": 0,
            "orientation": "horizontal",
            "style": "IPY_MODEL_1abde82d2d454650a345edb3ff5ec54b",
            "value": 5
          }
        },
        "7e434889ebfc49128f3a9a1502c60d5b": {
          "model_module": "@jupyter-widgets/controls",
          "model_name": "HTMLModel",
          "model_module_version": "1.5.0",
          "state": {
            "_dom_classes": [],
            "_model_module": "@jupyter-widgets/controls",
            "_model_module_version": "1.5.0",
            "_model_name": "HTMLModel",
            "_view_count": null,
            "_view_module": "@jupyter-widgets/controls",
            "_view_module_version": "1.5.0",
            "_view_name": "HTMLView",
            "description": "",
            "description_tooltip": null,
            "layout": "IPY_MODEL_3c1c29c680d84b3fbff010f9b3bb7ec6",
            "placeholder": "​",
            "style": "IPY_MODEL_53356ddce2dd42aebe00461fdca0fce5",
            "value": " 5/5 [00:00&lt;00:00, 12.85 file/s]"
          }
        },
        "194f2947d8a54b27bb3d17b320e281ad": {
          "model_module": "@jupyter-widgets/base",
          "model_name": "LayoutModel",
          "model_module_version": "1.2.0",
          "state": {
            "_model_module": "@jupyter-widgets/base",
            "_model_module_version": "1.2.0",
            "_model_name": "LayoutModel",
            "_view_count": null,
            "_view_module": "@jupyter-widgets/base",
            "_view_module_version": "1.2.0",
            "_view_name": "LayoutView",
            "align_content": null,
            "align_items": null,
            "align_self": null,
            "border": null,
            "bottom": null,
            "display": null,
            "flex": null,
            "flex_flow": null,
            "grid_area": null,
            "grid_auto_columns": null,
            "grid_auto_flow": null,
            "grid_auto_rows": null,
            "grid_column": null,
            "grid_gap": null,
            "grid_row": null,
            "grid_template_areas": null,
            "grid_template_columns": null,
            "grid_template_rows": null,
            "height": null,
            "justify_content": null,
            "justify_items": null,
            "left": null,
            "margin": null,
            "max_height": null,
            "max_width": null,
            "min_height": null,
            "min_width": null,
            "object_fit": null,
            "object_position": null,
            "order": null,
            "overflow": null,
            "overflow_x": null,
            "overflow_y": null,
            "padding": null,
            "right": null,
            "top": null,
            "visibility": null,
            "width": null
          }
        },
        "4fe849cadd2a43b3847dae5ef487b41b": {
          "model_module": "@jupyter-widgets/base",
          "model_name": "LayoutModel",
          "model_module_version": "1.2.0",
          "state": {
            "_model_module": "@jupyter-widgets/base",
            "_model_module_version": "1.2.0",
            "_model_name": "LayoutModel",
            "_view_count": null,
            "_view_module": "@jupyter-widgets/base",
            "_view_module_version": "1.2.0",
            "_view_name": "LayoutView",
            "align_content": null,
            "align_items": null,
            "align_self": null,
            "border": null,
            "bottom": null,
            "display": null,
            "flex": null,
            "flex_flow": null,
            "grid_area": null,
            "grid_auto_columns": null,
            "grid_auto_flow": null,
            "grid_auto_rows": null,
            "grid_column": null,
            "grid_gap": null,
            "grid_row": null,
            "grid_template_areas": null,
            "grid_template_columns": null,
            "grid_template_rows": null,
            "height": null,
            "justify_content": null,
            "justify_items": null,
            "left": null,
            "margin": null,
            "max_height": null,
            "max_width": null,
            "min_height": null,
            "min_width": null,
            "object_fit": null,
            "object_position": null,
            "order": null,
            "overflow": null,
            "overflow_x": null,
            "overflow_y": null,
            "padding": null,
            "right": null,
            "top": null,
            "visibility": null,
            "width": null
          }
        },
        "6068013225eb454fb1c292638dc881cd": {
          "model_module": "@jupyter-widgets/controls",
          "model_name": "DescriptionStyleModel",
          "model_module_version": "1.5.0",
          "state": {
            "_model_module": "@jupyter-widgets/controls",
            "_model_module_version": "1.5.0",
            "_model_name": "DescriptionStyleModel",
            "_view_count": null,
            "_view_module": "@jupyter-widgets/base",
            "_view_module_version": "1.2.0",
            "_view_name": "StyleView",
            "description_width": ""
          }
        },
        "f663fd098d284e6b837be66f2127f78d": {
          "model_module": "@jupyter-widgets/base",
          "model_name": "LayoutModel",
          "model_module_version": "1.2.0",
          "state": {
            "_model_module": "@jupyter-widgets/base",
            "_model_module_version": "1.2.0",
            "_model_name": "LayoutModel",
            "_view_count": null,
            "_view_module": "@jupyter-widgets/base",
            "_view_module_version": "1.2.0",
            "_view_name": "LayoutView",
            "align_content": null,
            "align_items": null,
            "align_self": null,
            "border": null,
            "bottom": null,
            "display": null,
            "flex": null,
            "flex_flow": null,
            "grid_area": null,
            "grid_auto_columns": null,
            "grid_auto_flow": null,
            "grid_auto_rows": null,
            "grid_column": null,
            "grid_gap": null,
            "grid_row": null,
            "grid_template_areas": null,
            "grid_template_columns": null,
            "grid_template_rows": null,
            "height": null,
            "justify_content": null,
            "justify_items": null,
            "left": null,
            "margin": null,
            "max_height": null,
            "max_width": null,
            "min_height": null,
            "min_width": null,
            "object_fit": null,
            "object_position": null,
            "order": null,
            "overflow": null,
            "overflow_x": null,
            "overflow_y": null,
            "padding": null,
            "right": null,
            "top": null,
            "visibility": null,
            "width": null
          }
        },
        "1abde82d2d454650a345edb3ff5ec54b": {
          "model_module": "@jupyter-widgets/controls",
          "model_name": "ProgressStyleModel",
          "model_module_version": "1.5.0",
          "state": {
            "_model_module": "@jupyter-widgets/controls",
            "_model_module_version": "1.5.0",
            "_model_name": "ProgressStyleModel",
            "_view_count": null,
            "_view_module": "@jupyter-widgets/base",
            "_view_module_version": "1.2.0",
            "_view_name": "StyleView",
            "bar_color": null,
            "description_width": ""
          }
        },
        "3c1c29c680d84b3fbff010f9b3bb7ec6": {
          "model_module": "@jupyter-widgets/base",
          "model_name": "LayoutModel",
          "model_module_version": "1.2.0",
          "state": {
            "_model_module": "@jupyter-widgets/base",
            "_model_module_version": "1.2.0",
            "_model_name": "LayoutModel",
            "_view_count": null,
            "_view_module": "@jupyter-widgets/base",
            "_view_module_version": "1.2.0",
            "_view_name": "LayoutView",
            "align_content": null,
            "align_items": null,
            "align_self": null,
            "border": null,
            "bottom": null,
            "display": null,
            "flex": null,
            "flex_flow": null,
            "grid_area": null,
            "grid_auto_columns": null,
            "grid_auto_flow": null,
            "grid_auto_rows": null,
            "grid_column": null,
            "grid_gap": null,
            "grid_row": null,
            "grid_template_areas": null,
            "grid_template_columns": null,
            "grid_template_rows": null,
            "height": null,
            "justify_content": null,
            "justify_items": null,
            "left": null,
            "margin": null,
            "max_height": null,
            "max_width": null,
            "min_height": null,
            "min_width": null,
            "object_fit": null,
            "object_position": null,
            "order": null,
            "overflow": null,
            "overflow_x": null,
            "overflow_y": null,
            "padding": null,
            "right": null,
            "top": null,
            "visibility": null,
            "width": null
          }
        },
        "53356ddce2dd42aebe00461fdca0fce5": {
          "model_module": "@jupyter-widgets/controls",
          "model_name": "DescriptionStyleModel",
          "model_module_version": "1.5.0",
          "state": {
            "_model_module": "@jupyter-widgets/controls",
            "_model_module_version": "1.5.0",
            "_model_name": "DescriptionStyleModel",
            "_view_count": null,
            "_view_module": "@jupyter-widgets/base",
            "_view_module_version": "1.2.0",
            "_view_name": "StyleView",
            "description_width": ""
          }
        }
      }
    }
  },
  "cells": [
    {
      "cell_type": "markdown",
      "metadata": {
        "id": "view-in-github",
        "colab_type": "text"
      },
      "source": [
        "<a href=\"https://colab.research.google.com/github/fjadidi2001/Machine_Learning_Journey/blob/main/ML_s9.ipynb\" target=\"_parent\"><img src=\"https://colab.research.google.com/assets/colab-badge.svg\" alt=\"Open In Colab\"/></a>"
      ]
    },
    {
      "cell_type": "markdown",
      "source": [
        "# Keras"
      ],
      "metadata": {
        "id": "vjahLyQKONnK"
      }
    },
    {
      "cell_type": "code",
      "execution_count": 1,
      "metadata": {
        "id": "NHgQjEzgANpN"
      },
      "outputs": [],
      "source": [
        "from tensorflow.keras.models import Sequential\n",
        "from tensorflow.keras.layers import Dense\n",
        "\n",
        "model = Sequential([\n",
        "    Dense(128, activation='relu'),\n",
        "    Dense(10, activation='softmax')\n",
        "])\n"
      ]
    },
    {
      "cell_type": "markdown",
      "source": [
        "The provided code snippet is written in Python and uses the TensorFlow library, specifically its Keras API, to define a neural network model.\n",
        "\n",
        "Here’s a breakdown of the code:\n",
        "\n",
        "1. **Import Statements**:\n",
        "   - `from tensorflow.keras.models import Sequential`: This imports the `Sequential` class, which is used to create a linear stack of layers.\n",
        "   - `from tensorflow.keras.layers import Dense`: This imports the `Dense` layer class, which is a fully connected layer commonly used in neural networks.\n",
        "\n",
        "2. **Model Creation**:\n",
        "   - `model = Sequential([...])`: This line initializes a new Sequential model, which will contain a sequence of layers.\n",
        "\n",
        "3. **Adding Layers**:\n",
        "   - `Dense(128, activation='relu')`: This adds a dense layer with 128 neurons and uses the ReLU (Rectified Linear Unit) activation function. ReLU introduces non-linearity into the model, allowing it to learn more complex patterns.\n",
        "   - `Dense(10, activation='softmax')`: This adds another dense layer with 10 neurons, using the softmax activation function. This layer is typically used in the output layer for classification tasks with multiple classes (in this case, 10 classes). The softmax function converts the output into probabilities that sum to 1, making it suitable for multi-class classification.\n",
        "\n",
        "In summary, this code defines a simple feedforward neural network with one hidden layer containing 128 neurons and an output layer for 10 classes, suitable for tasks such as image classification or other multi-class problems.\n"
      ],
      "metadata": {
        "id": "mUZMnXTu9ZZw"
      }
    },
    {
      "cell_type": "markdown",
      "source": [
        "# TensorFlow Datasets (tfds)"
      ],
      "metadata": {
        "id": "ssYxaXJPORqD"
      }
    },
    {
      "cell_type": "code",
      "source": [
        "import tensorflow_datasets as tfds\n",
        "dataset = tfds.load('mnist', split='train')\n"
      ],
      "metadata": {
        "colab": {
          "base_uri": "https://localhost:8080/",
          "height": 104,
          "referenced_widgets": [
            "01dce2c8f6ed4676a88ca55c1a08a0b1",
            "a289c9529c804ba0a3910f42bfb91c29",
            "fed02d92174342e4928b4f12ed8d243c",
            "7e434889ebfc49128f3a9a1502c60d5b",
            "194f2947d8a54b27bb3d17b320e281ad",
            "4fe849cadd2a43b3847dae5ef487b41b",
            "6068013225eb454fb1c292638dc881cd",
            "f663fd098d284e6b837be66f2127f78d",
            "1abde82d2d454650a345edb3ff5ec54b",
            "3c1c29c680d84b3fbff010f9b3bb7ec6",
            "53356ddce2dd42aebe00461fdca0fce5"
          ]
        },
        "id": "Ab49RTRnOM16",
        "outputId": "0c091200-a6e5-499c-ebe4-61e932263115"
      },
      "execution_count": 2,
      "outputs": [
        {
          "output_type": "stream",
          "name": "stdout",
          "text": [
            "Downloading and preparing dataset 11.06 MiB (download: 11.06 MiB, generated: 21.00 MiB, total: 32.06 MiB) to /root/tensorflow_datasets/mnist/3.0.1...\n"
          ]
        },
        {
          "output_type": "display_data",
          "data": {
            "text/plain": [
              "Dl Completed...:   0%|          | 0/5 [00:00<?, ? file/s]"
            ],
            "application/vnd.jupyter.widget-view+json": {
              "version_major": 2,
              "version_minor": 0,
              "model_id": "01dce2c8f6ed4676a88ca55c1a08a0b1"
            }
          },
          "metadata": {}
        },
        {
          "output_type": "stream",
          "name": "stdout",
          "text": [
            "Dataset mnist downloaded and prepared to /root/tensorflow_datasets/mnist/3.0.1. Subsequent calls will reuse this data.\n"
          ]
        }
      ]
    },
    {
      "cell_type": "markdown",
      "source": [
        "The code snippet you provided is using the TensorFlow Datasets (TFDS) library to load the MNIST dataset, which comprises handwritten digits.\n",
        "\n",
        "Here's a clear breakdown of the code:\n",
        "\n",
        "1. **Importing the library**:\n",
        "   ```python\n",
        "   import tensorflow_datasets as tfds\n",
        "   ```\n",
        "   This line imports the TensorFlow Datasets library under the alias `tfds`. This library provides a collection of ready-to-use datasets for machine learning.\n",
        "\n",
        "2. **Loading the MNIST dataset**:\n",
        "   ```python\n",
        "   dataset = tfds.load('mnist', split='train')\n",
        "   ```\n",
        "   This line loads the MNIST dataset, specifically the training split. The `tfds.load()` function fetches the dataset and prepares it for use, returning it as a `tf.data.Dataset` object, which is a format suitable for training machine learning models in TensorFlow.\n",
        "\n",
        "In summary, this code loads the training portion of the MNIST handwritten digits dataset for further use in machine learning tasks.\n"
      ],
      "metadata": {
        "id": "7Ih8c_t29kAO"
      }
    },
    {
      "cell_type": "markdown",
      "source": [
        "# TensorFlow Hub"
      ],
      "metadata": {
        "id": "kpnFBb6I7mX6"
      }
    },
    {
      "cell_type": "code",
      "source": [
        "import tensorflow_hub as hub\n",
        "model = hub.load('https://tfhub.dev/google/imagenet/resnet_v2_50/feature_vector/5')\n"
      ],
      "metadata": {
        "id": "HsqL2y1x7lTx"
      },
      "execution_count": 1,
      "outputs": []
    },
    {
      "cell_type": "markdown",
      "source": [
        "The code snippet you've provided is written in Python and uses the TensorFlow Hub library to load a pre-trained deep learning model.\n",
        "\n",
        "Here's a breakdown of what each part does:\n",
        "\n",
        "1. **Import TensorFlow Hub**: The command `import tensorflow_hub as hub` imports the TensorFlow Hub library, which allows you to easily access pre-trained models and other reusable components.\n",
        "\n",
        "2. **Load a Pre-trained Model**: The line `model = hub.load('https://tfhub.dev/google/imagenet/resnet_v2_50/feature_vector/5')` loads a specific pre-trained model from TensorFlow Hub. In this case, it is a ResNet V2 model with 50 layers, which is trained on the ImageNet dataset to extract feature vectors from images. The URL points to the specific version of the model.\n",
        "\n",
        "After executing this code, the variable `model` will hold the loaded ResNet model, which you can then use to process images, extract features, or make predictions.\n"
      ],
      "metadata": {
        "id": "xH0mzw2U9NOg"
      }
    },
    {
      "cell_type": "markdown",
      "source": [
        "# Second Part\n",
        "\n",
        "start a project with Tensor"
      ],
      "metadata": {
        "id": "k09jeQ0G-Hqh"
      }
    }
  ]
}