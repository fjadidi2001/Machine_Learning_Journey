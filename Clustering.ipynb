{
  "nbformat": 4,
  "nbformat_minor": 0,
  "metadata": {
    "colab": {
      "provenance": [],
      "authorship_tag": "ABX9TyPnEdAYGw7OK53JOuAqQzYa",
      "include_colab_link": true
    },
    "kernelspec": {
      "name": "python3",
      "display_name": "Python 3"
    },
    "language_info": {
      "name": "python"
    }
  },
  "cells": [
    {
      "cell_type": "markdown",
      "metadata": {
        "id": "view-in-github",
        "colab_type": "text"
      },
      "source": [
        "<a href=\"https://colab.research.google.com/github/fjadidi2001/Machine_Learning_Journey/blob/main/Clustering.ipynb\" target=\"_parent\"><img src=\"https://colab.research.google.com/assets/colab-badge.svg\" alt=\"Open In Colab\"/></a>"
      ]
    },
    {
      "cell_type": "code",
      "source": [
        "import matplotlib.pyplot as plt\n",
        "import numpy as np"
      ],
      "metadata": {
        "id": "cIlqwl8Jex4p"
      },
      "execution_count": 4,
      "outputs": []
    },
    {
      "cell_type": "code",
      "source": [
        "d1 = (1, 2)\n",
        "d2 = (3, 4)\n",
        "z1_initial = (0, 0)\n",
        "z2_initial = (4, 5)"
      ],
      "metadata": {
        "id": "Zbv27CpAe-CS"
      },
      "execution_count": 7,
      "outputs": []
    },
    {
      "cell_type": "code",
      "source": [],
      "metadata": {
        "id": "ylJiC7oOfENI"
      },
      "execution_count": null,
      "outputs": []
    },
    {
      "cell_type": "code",
      "execution_count": 6,
      "metadata": {
        "colab": {
          "base_uri": "https://localhost:8080/",
          "height": 716
        },
        "id": "WHsg6xgceqnU",
        "outputId": "dd3338d3-ca2e-4d59-d1f2-4dc5c60ab371"
      },
      "outputs": [
        {
          "output_type": "error",
          "ename": "NameError",
          "evalue": "name 'z1_updated' is not defined",
          "traceback": [
            "\u001b[0;31m---------------------------------------------------------------------------\u001b[0m",
            "\u001b[0;31mNameError\u001b[0m                                 Traceback (most recent call last)",
            "\u001b[0;32m<ipython-input-6-e307b0ef4bce>\u001b[0m in \u001b[0;36m<cell line: 14>\u001b[0;34m()\u001b[0m\n\u001b[1;32m     12\u001b[0m \u001b[0;34m\u001b[0m\u001b[0m\n\u001b[1;32m     13\u001b[0m \u001b[0;31m# Plot updated cluster centers\u001b[0m\u001b[0;34m\u001b[0m\u001b[0;34m\u001b[0m\u001b[0m\n\u001b[0;32m---> 14\u001b[0;31m \u001b[0mplt\u001b[0m\u001b[0;34m.\u001b[0m\u001b[0mscatter\u001b[0m\u001b[0;34m(\u001b[0m\u001b[0;34m*\u001b[0m\u001b[0mz1_updated\u001b[0m\u001b[0;34m,\u001b[0m \u001b[0mcolor\u001b[0m\u001b[0;34m=\u001b[0m\u001b[0;34m'orange'\u001b[0m\u001b[0;34m,\u001b[0m \u001b[0mlabel\u001b[0m\u001b[0;34m=\u001b[0m\u001b[0;34m'z1_updated = (1.25, 2.25)'\u001b[0m\u001b[0;34m,\u001b[0m \u001b[0ms\u001b[0m\u001b[0;34m=\u001b[0m\u001b[0;36m100\u001b[0m\u001b[0;34m,\u001b[0m \u001b[0mmarker\u001b[0m\u001b[0;34m=\u001b[0m\u001b[0;34m'D'\u001b[0m\u001b[0;34m)\u001b[0m\u001b[0;34m\u001b[0m\u001b[0;34m\u001b[0m\u001b[0m\n\u001b[0m\u001b[1;32m     15\u001b[0m \u001b[0mplt\u001b[0m\u001b[0;34m.\u001b[0m\u001b[0mscatter\u001b[0m\u001b[0;34m(\u001b[0m\u001b[0;34m*\u001b[0m\u001b[0mz2_updated\u001b[0m\u001b[0;34m,\u001b[0m \u001b[0mcolor\u001b[0m\u001b[0;34m=\u001b[0m\u001b[0;34m'brown'\u001b[0m\u001b[0;34m,\u001b[0m \u001b[0mlabel\u001b[0m\u001b[0;34m=\u001b[0m\u001b[0;34m'z2_updated = (2.85, 3.85)'\u001b[0m\u001b[0;34m,\u001b[0m \u001b[0ms\u001b[0m\u001b[0;34m=\u001b[0m\u001b[0;36m100\u001b[0m\u001b[0;34m,\u001b[0m \u001b[0mmarker\u001b[0m\u001b[0;34m=\u001b[0m\u001b[0;34m'D'\u001b[0m\u001b[0;34m)\u001b[0m\u001b[0;34m\u001b[0m\u001b[0;34m\u001b[0m\u001b[0m\n\u001b[1;32m     16\u001b[0m \u001b[0;34m\u001b[0m\u001b[0m\n",
            "\u001b[0;31mNameError\u001b[0m: name 'z1_updated' is not defined"
          ]
        },
        {
          "output_type": "display_data",
          "data": {
            "text/plain": [
              "<Figure size 800x600 with 1 Axes>"
            ],
            "image/png": "[encoded data removed]"
          },
          "metadata": {}
        }
      ],
      "source": [
        "# Re-attempting visualization with same data and configuration\n",
        "\n",
        "plt.figure(figsize=(8, 6))\n",
        "\n",
        "# Plot data points\n",
        "plt.scatter(*d1, color='blue', label='d1 = (1, 2)', s=100, marker='o')\n",
        "plt.scatter(*d2, color='green', label='d2 = (3, 4)', s=100, marker='o')\n",
        "\n",
        "# Plot initial cluster centers\n",
        "plt.scatter(*z1_initial, color='red', label='z1_initial = (0, 0)', s=100, marker='x')\n",
        "plt.scatter(*z2_initial, color='purple', label='z2_initial = (4, 5)', s=100, marker='x')\n",
        "\n",
        "# Plot updated cluster centers\n",
        "plt.scatter(*z1_updated, color='orange', label='z1_updated = (1.25, 2.25)', s=100, marker='D')\n",
        "plt.scatter(*z2_updated, color='brown', label='z2_updated = (2.85, 3.85)', s=100, marker='D')\n",
        "\n",
        "# Draw arrows showing movement of cluster centers\n",
        "plt.arrow(z1_initial[0], z1_initial[1], z1_updated[0]-z1_initial[0], z1_updated[1]-z1_initial[1],\n",
        "          color='red', linestyle='--', head_width=0.1, length_includes_head=True)\n",
        "plt.arrow(z2_initial[0], z2_initial[1], z2_updated[0]-z2_initial[0], z2_updated[1]-z2_initial[1],\n",
        "          color='purple', linestyle='--', head_width=0.1, length_includes_head=True)\n",
        "\n",
        "# Add labels and legend\n",
        "plt.title('Cluster Centers Movement (K-means & Fuzzy C-means)', fontsize=14)\n",
        "plt.xlabel('X-axis', fontsize=12)\n",
        "plt.ylabel('Y-axis', fontsize=12)\n",
        "plt.axhline(0, color='black', linewidth=0.5, linestyle='--')\n",
        "plt.axvline(0, color='black', linewidth=0.5, linestyle='--')\n",
        "plt.legend()\n",
        "plt.grid(True)\n",
        "plt.show()\n"
      ]
    }
  ]
}